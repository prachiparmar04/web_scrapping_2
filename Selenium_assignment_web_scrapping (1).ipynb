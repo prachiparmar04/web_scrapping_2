{
 "cells": [
  {
   "cell_type": "markdown",
   "metadata": {},
   "source": [
    "## WEB SCRAPPING WITH SELENIUM ASSIGNMENT"
   ]
  },
  {
   "cell_type": "markdown",
   "metadata": {},
   "source": [
    "### Q1: Write a python program to scrape data for “Data Analyst” Job position in\n",
    "    “Bangalore” location. You have to scrape the job-title, job-location, company_name,\n",
    "    experience_required. You have to scrape first 10 jobs data.\n",
    "    This task will be done in following steps:\n",
    "    1. first get the webpage https://www.naukri.com/\n",
    "    2. Enter “Data Analyst” in “Skill,Designations,Companies” field and enter “Bangalore”\n",
    "    in “enter the location” field.\n",
    "    3. Then click the search button.\n",
    "    4. Then scrape the data for the first 10 jobs results you get.\n",
    "    5. Finally create a dataframe of the scraped data.\n",
    "    Note- All of the above steps have to be done in code. No step is to be done manually.\n"
   ]
  },
  {
   "cell_type": "code",
   "execution_count": 1,
   "metadata": {},
   "outputs": [],
   "source": [
    "# imports \n",
    "import selenium \n",
    "import pandas as pd\n",
    "from selenium import webdriver"
   ]
  },
  {
   "cell_type": "markdown",
   "metadata": {},
   "source": [
    "Version 91.0.4472.77 (Official Build) (64-bit)\n",
    "\n"
   ]
  },
  {
   "cell_type": "code",
   "execution_count": 2,
   "metadata": {},
   "outputs": [],
   "source": [
    "#IMPORTING chrome driver exe\n",
    "\n",
    "\n",
    "driver = webdriver.Chrome(\"Downloads\\chromedriver_win32\\chromedriver.exe\")"
   ]
  },
  {
   "cell_type": "code",
   "execution_count": 4,
   "metadata": {},
   "outputs": [],
   "source": [
    "#proving the chrome drive with naukri url\n",
    "\n",
    "\n",
    "url = \"https://www.naukri.com/\"\n",
    "driver.get(url)"
   ]
  },
  {
   "cell_type": "code",
   "execution_count": 5,
   "metadata": {},
   "outputs": [
    {
     "data": {
      "text/plain": [
       "(<selenium.webdriver.remote.webelement.WebElement (session=\"49e5d3f986e69dab74dca3e2ccdd77d8\", element=\"3d872cae-1db7-4970-872f-7af5caf7608a\")>,\n",
       " <selenium.webdriver.remote.webelement.WebElement (session=\"49e5d3f986e69dab74dca3e2ccdd77d8\", element=\"1931b8e5-95ea-4b8d-8f66-2967e67f191e\")>,\n",
       " <selenium.webdriver.remote.webelement.WebElement (session=\"49e5d3f986e69dab74dca3e2ccdd77d8\", element=\"a2a18a98-9c25-4436-9d11-81b2d397cc0e\")>)"
      ]
     },
     "execution_count": 5,
     "metadata": {},
     "output_type": "execute_result"
    }
   ],
   "source": [
    "### Findind search bars,location search bar, and Search Button by ID and giving it to the driver\n",
    "\n",
    "search_job = driver.find_element_by_id(\"qsb-keyword-sugg\")\n",
    "search_loc = driver.find_element_by_id(\"qsb-location-sugg\")\n",
    "search_btn = driver.find_element_by_class_name('btn')\n",
    "\n",
    "search_job,search_loc,search_btn"
   ]
  },
  {
   "cell_type": "code",
   "execution_count": 6,
   "metadata": {},
   "outputs": [],
   "source": [
    "# Porviding keys to search , givien in the previous step.\n",
    "\n",
    "\n",
    "search_job.send_keys(\"Data Analyst\")\n",
    "search_loc.send_keys(\"Bangalore\")\n",
    "search_btn.click()"
   ]
  },
  {
   "cell_type": "code",
   "execution_count": 34,
   "metadata": {
    "scrolled": true
   },
   "outputs": [],
   "source": [
    "# AS per the search data given, Data retrieved extraction with XPATH with CLASSNAME\n",
    "# of job_title,comapny_name, location, and expierence years, salary\n",
    "\n",
    "\n",
    "job_titles_tag = driver.find_elements_by_xpath(\"//a[@class= 'title fw500 ellipsis']\")\n",
    "company_names_tag =  driver.find_elements_by_xpath(\"//a[@class= 'subTitle ellipsis fleft']\")\n",
    "locations_and_years =  driver.find_elements_by_xpath(\"//span[@class= 'ellipsis fleft fs12 lh16']\")\n",
    "#exp_years_tag =  driver.find_elements_by_xpath(\"//span[@class= 'ellipsis fleft fs12 lh16']\")"
   ]
  },
  {
   "cell_type": "code",
   "execution_count": 35,
   "metadata": {},
   "outputs": [
    {
     "data": {
      "text/plain": [
       "([<selenium.webdriver.remote.webelement.WebElement (session=\"49e5d3f986e69dab74dca3e2ccdd77d8\", element=\"848c4e54-bb37-4c02-b296-3b9596847b73\")>,\n",
       "  <selenium.webdriver.remote.webelement.WebElement (session=\"49e5d3f986e69dab74dca3e2ccdd77d8\", element=\"becd13ef-b611-410a-a868-8e5e33562c33\")>,\n",
       "  <selenium.webdriver.remote.webelement.WebElement (session=\"49e5d3f986e69dab74dca3e2ccdd77d8\", element=\"6f55fbfa-e4ea-4930-8566-2935ff61bf55\")>,\n",
       "  <selenium.webdriver.remote.webelement.WebElement (session=\"49e5d3f986e69dab74dca3e2ccdd77d8\", element=\"480c4466-a66f-4ae3-8c30-0f1e93585a20\")>,\n",
       "  <selenium.webdriver.remote.webelement.WebElement (session=\"49e5d3f986e69dab74dca3e2ccdd77d8\", element=\"f58cba7d-83e9-40d2-b054-02ef60319760\")>,\n",
       "  <selenium.webdriver.remote.webelement.WebElement (session=\"49e5d3f986e69dab74dca3e2ccdd77d8\", element=\"0e1957ed-33b3-4870-83fe-9b93134198f7\")>,\n",
       "  <selenium.webdriver.remote.webelement.WebElement (session=\"49e5d3f986e69dab74dca3e2ccdd77d8\", element=\"1eadc7e9-43bb-469e-ac38-ceda9141aa85\")>,\n",
       "  <selenium.webdriver.remote.webelement.WebElement (session=\"49e5d3f986e69dab74dca3e2ccdd77d8\", element=\"2b73c595-5fb1-472c-8a32-0b6fe924bad8\")>,\n",
       "  <selenium.webdriver.remote.webelement.WebElement (session=\"49e5d3f986e69dab74dca3e2ccdd77d8\", element=\"13980152-0fa5-4c08-93fa-da96949fee18\")>,\n",
       "  <selenium.webdriver.remote.webelement.WebElement (session=\"49e5d3f986e69dab74dca3e2ccdd77d8\", element=\"a7de18ce-04d8-4eb1-ad1f-077963766565\")>,\n",
       "  <selenium.webdriver.remote.webelement.WebElement (session=\"49e5d3f986e69dab74dca3e2ccdd77d8\", element=\"8a89e27c-6b60-486e-92ca-49ffac84354f\")>,\n",
       "  <selenium.webdriver.remote.webelement.WebElement (session=\"49e5d3f986e69dab74dca3e2ccdd77d8\", element=\"b857dec4-a09a-4893-b942-1423ab685fc6\")>,\n",
       "  <selenium.webdriver.remote.webelement.WebElement (session=\"49e5d3f986e69dab74dca3e2ccdd77d8\", element=\"24b21f27-ac3b-4384-98c7-10d63150cc1c\")>,\n",
       "  <selenium.webdriver.remote.webelement.WebElement (session=\"49e5d3f986e69dab74dca3e2ccdd77d8\", element=\"4b8155fb-7903-493a-bc12-f063dc21cc53\")>,\n",
       "  <selenium.webdriver.remote.webelement.WebElement (session=\"49e5d3f986e69dab74dca3e2ccdd77d8\", element=\"d5a6e663-4a65-4003-b8b0-27fc8e1d2fd7\")>,\n",
       "  <selenium.webdriver.remote.webelement.WebElement (session=\"49e5d3f986e69dab74dca3e2ccdd77d8\", element=\"20f3aaf5-293f-41ec-8df1-eecf327750d6\")>,\n",
       "  <selenium.webdriver.remote.webelement.WebElement (session=\"49e5d3f986e69dab74dca3e2ccdd77d8\", element=\"9899129f-acb4-4adb-848a-916427af6a3d\")>,\n",
       "  <selenium.webdriver.remote.webelement.WebElement (session=\"49e5d3f986e69dab74dca3e2ccdd77d8\", element=\"93601b7e-18d6-44bd-bc6d-30e283c696f1\")>,\n",
       "  <selenium.webdriver.remote.webelement.WebElement (session=\"49e5d3f986e69dab74dca3e2ccdd77d8\", element=\"bf30ffa4-f0de-4e44-8b80-3c10c83ebaeb\")>,\n",
       "  <selenium.webdriver.remote.webelement.WebElement (session=\"49e5d3f986e69dab74dca3e2ccdd77d8\", element=\"446596b8-9061-4fa2-aa1a-3f7f9499e214\")>],\n",
       " [<selenium.webdriver.remote.webelement.WebElement (session=\"49e5d3f986e69dab74dca3e2ccdd77d8\", element=\"3d7ff8bd-020a-45f6-a297-f88148df4947\")>,\n",
       "  <selenium.webdriver.remote.webelement.WebElement (session=\"49e5d3f986e69dab74dca3e2ccdd77d8\", element=\"30e37861-cf52-46fa-9e12-d9bdc9ee1c0a\")>,\n",
       "  <selenium.webdriver.remote.webelement.WebElement (session=\"49e5d3f986e69dab74dca3e2ccdd77d8\", element=\"c9fb208d-3406-4335-af1a-d9c1ef42859d\")>,\n",
       "  <selenium.webdriver.remote.webelement.WebElement (session=\"49e5d3f986e69dab74dca3e2ccdd77d8\", element=\"4eb59e6f-7060-4a5d-835f-f3fb919d55f6\")>,\n",
       "  <selenium.webdriver.remote.webelement.WebElement (session=\"49e5d3f986e69dab74dca3e2ccdd77d8\", element=\"6904029c-11bb-437b-a518-5ca47ffcdf62\")>,\n",
       "  <selenium.webdriver.remote.webelement.WebElement (session=\"49e5d3f986e69dab74dca3e2ccdd77d8\", element=\"8c537430-7176-4421-9005-9808f86492a6\")>,\n",
       "  <selenium.webdriver.remote.webelement.WebElement (session=\"49e5d3f986e69dab74dca3e2ccdd77d8\", element=\"1c64fcdd-c3aa-4a24-a3be-e692a8f9baf2\")>,\n",
       "  <selenium.webdriver.remote.webelement.WebElement (session=\"49e5d3f986e69dab74dca3e2ccdd77d8\", element=\"7319ac4b-63f7-494f-b364-3c91c9ad4bc7\")>,\n",
       "  <selenium.webdriver.remote.webelement.WebElement (session=\"49e5d3f986e69dab74dca3e2ccdd77d8\", element=\"5add7bd2-efe3-45fa-bf4f-ac9be541355c\")>,\n",
       "  <selenium.webdriver.remote.webelement.WebElement (session=\"49e5d3f986e69dab74dca3e2ccdd77d8\", element=\"1212c68d-3007-4b6b-a074-0bd75acf343d\")>,\n",
       "  <selenium.webdriver.remote.webelement.WebElement (session=\"49e5d3f986e69dab74dca3e2ccdd77d8\", element=\"6b6d3bf8-48be-47c3-832b-44cee1bc1f22\")>,\n",
       "  <selenium.webdriver.remote.webelement.WebElement (session=\"49e5d3f986e69dab74dca3e2ccdd77d8\", element=\"587d3e13-2911-4ccc-b9a1-661f8f9e6d45\")>,\n",
       "  <selenium.webdriver.remote.webelement.WebElement (session=\"49e5d3f986e69dab74dca3e2ccdd77d8\", element=\"8ca7b1a6-104b-4045-bd80-f5d59cef997a\")>,\n",
       "  <selenium.webdriver.remote.webelement.WebElement (session=\"49e5d3f986e69dab74dca3e2ccdd77d8\", element=\"6b6138ae-737e-4689-8377-ce0dd562561c\")>,\n",
       "  <selenium.webdriver.remote.webelement.WebElement (session=\"49e5d3f986e69dab74dca3e2ccdd77d8\", element=\"77160f8f-4af1-4e8f-bbd3-cfd438a116ab\")>,\n",
       "  <selenium.webdriver.remote.webelement.WebElement (session=\"49e5d3f986e69dab74dca3e2ccdd77d8\", element=\"9f946bfa-9d6b-4cdd-a62b-6c84e5304f2e\")>,\n",
       "  <selenium.webdriver.remote.webelement.WebElement (session=\"49e5d3f986e69dab74dca3e2ccdd77d8\", element=\"e43c7fd7-b7ec-4375-bf15-e4aa4c5fd9bc\")>,\n",
       "  <selenium.webdriver.remote.webelement.WebElement (session=\"49e5d3f986e69dab74dca3e2ccdd77d8\", element=\"ea15b804-b649-449f-8a94-0a2701b02edb\")>,\n",
       "  <selenium.webdriver.remote.webelement.WebElement (session=\"49e5d3f986e69dab74dca3e2ccdd77d8\", element=\"54f07f1a-b0ff-4444-979d-4ac3f870b9d4\")>,\n",
       "  <selenium.webdriver.remote.webelement.WebElement (session=\"49e5d3f986e69dab74dca3e2ccdd77d8\", element=\"7a557ac5-0ca3-4550-8808-09da4c6c7c8c\")>],\n",
       " [<selenium.webdriver.remote.webelement.WebElement (session=\"49e5d3f986e69dab74dca3e2ccdd77d8\", element=\"13f4471c-4ca0-49d5-9026-d8ae7e1b39fd\")>,\n",
       "  <selenium.webdriver.remote.webelement.WebElement (session=\"49e5d3f986e69dab74dca3e2ccdd77d8\", element=\"eddaeb72-39c9-491b-b355-a978c053bd8f\")>,\n",
       "  <selenium.webdriver.remote.webelement.WebElement (session=\"49e5d3f986e69dab74dca3e2ccdd77d8\", element=\"23dc0eaa-bdb7-4109-8b08-d713c2e89497\")>,\n",
       "  <selenium.webdriver.remote.webelement.WebElement (session=\"49e5d3f986e69dab74dca3e2ccdd77d8\", element=\"12ae175a-25e6-4fa6-9149-7a789d3ee00c\")>,\n",
       "  <selenium.webdriver.remote.webelement.WebElement (session=\"49e5d3f986e69dab74dca3e2ccdd77d8\", element=\"10a9e21b-5b7c-4067-8ba0-56d3a461015d\")>,\n",
       "  <selenium.webdriver.remote.webelement.WebElement (session=\"49e5d3f986e69dab74dca3e2ccdd77d8\", element=\"eb2c7bf2-5dfd-4118-932f-9d40d8fcd50c\")>,\n",
       "  <selenium.webdriver.remote.webelement.WebElement (session=\"49e5d3f986e69dab74dca3e2ccdd77d8\", element=\"199c3c08-465e-4cb2-9ce8-eafc30b2e030\")>,\n",
       "  <selenium.webdriver.remote.webelement.WebElement (session=\"49e5d3f986e69dab74dca3e2ccdd77d8\", element=\"caa3397a-6e40-4151-b76a-574ef1126dfe\")>,\n",
       "  <selenium.webdriver.remote.webelement.WebElement (session=\"49e5d3f986e69dab74dca3e2ccdd77d8\", element=\"607777cc-63ea-4654-a7f4-83aaaaeb4990\")>,\n",
       "  <selenium.webdriver.remote.webelement.WebElement (session=\"49e5d3f986e69dab74dca3e2ccdd77d8\", element=\"a7d9bbe8-f013-45ef-a2fd-d21232b735e8\")>,\n",
       "  <selenium.webdriver.remote.webelement.WebElement (session=\"49e5d3f986e69dab74dca3e2ccdd77d8\", element=\"0a6f286d-a622-4971-a744-e7aa3b832fdd\")>,\n",
       "  <selenium.webdriver.remote.webelement.WebElement (session=\"49e5d3f986e69dab74dca3e2ccdd77d8\", element=\"7e9b2c7b-deb1-438f-8ffe-09dd7ee60fc1\")>,\n",
       "  <selenium.webdriver.remote.webelement.WebElement (session=\"49e5d3f986e69dab74dca3e2ccdd77d8\", element=\"5c47d286-e5b1-4500-ad5f-1a91c2a44c93\")>,\n",
       "  <selenium.webdriver.remote.webelement.WebElement (session=\"49e5d3f986e69dab74dca3e2ccdd77d8\", element=\"b35f380e-e522-48dd-ab1a-54dba9063d73\")>,\n",
       "  <selenium.webdriver.remote.webelement.WebElement (session=\"49e5d3f986e69dab74dca3e2ccdd77d8\", element=\"3e59b598-cd0c-47d4-b726-dfd9505c10cc\")>,\n",
       "  <selenium.webdriver.remote.webelement.WebElement (session=\"49e5d3f986e69dab74dca3e2ccdd77d8\", element=\"b922ebdc-effb-4d70-8bb4-f3b90c3ed58d\")>,\n",
       "  <selenium.webdriver.remote.webelement.WebElement (session=\"49e5d3f986e69dab74dca3e2ccdd77d8\", element=\"d5f39a72-f96a-4056-9c98-de34baf8b079\")>,\n",
       "  <selenium.webdriver.remote.webelement.WebElement (session=\"49e5d3f986e69dab74dca3e2ccdd77d8\", element=\"e24bcdaa-4540-43e8-8ba3-5d52b761d81a\")>,\n",
       "  <selenium.webdriver.remote.webelement.WebElement (session=\"49e5d3f986e69dab74dca3e2ccdd77d8\", element=\"f83aa87f-9047-489f-9cf5-b3ebbdbff01e\")>,\n",
       "  <selenium.webdriver.remote.webelement.WebElement (session=\"49e5d3f986e69dab74dca3e2ccdd77d8\", element=\"0b1b7f2e-9a2a-4b9b-aeae-a23e6995c9fc\")>,\n",
       "  <selenium.webdriver.remote.webelement.WebElement (session=\"49e5d3f986e69dab74dca3e2ccdd77d8\", element=\"a67cd8fd-d01e-4b34-8f23-d56b8840574e\")>,\n",
       "  <selenium.webdriver.remote.webelement.WebElement (session=\"49e5d3f986e69dab74dca3e2ccdd77d8\", element=\"b10d1fa3-a49c-4903-adaf-7e455f067b1f\")>,\n",
       "  <selenium.webdriver.remote.webelement.WebElement (session=\"49e5d3f986e69dab74dca3e2ccdd77d8\", element=\"00dbc82e-4968-4a59-af12-f323df8e49c1\")>,\n",
       "  <selenium.webdriver.remote.webelement.WebElement (session=\"49e5d3f986e69dab74dca3e2ccdd77d8\", element=\"c8f86572-3d90-4162-bf53-4f46cd6054b6\")>,\n",
       "  <selenium.webdriver.remote.webelement.WebElement (session=\"49e5d3f986e69dab74dca3e2ccdd77d8\", element=\"90ad1ca6-3e09-433c-857e-d6089845676a\")>,\n",
       "  <selenium.webdriver.remote.webelement.WebElement (session=\"49e5d3f986e69dab74dca3e2ccdd77d8\", element=\"9708d39f-b1bb-4f70-80be-3ed2a494ac9d\")>,\n",
       "  <selenium.webdriver.remote.webelement.WebElement (session=\"49e5d3f986e69dab74dca3e2ccdd77d8\", element=\"324476eb-763e-4db1-b767-86881eb40dcb\")>,\n",
       "  <selenium.webdriver.remote.webelement.WebElement (session=\"49e5d3f986e69dab74dca3e2ccdd77d8\", element=\"4f3a26fa-befb-4a3d-935b-9a9323c52678\")>,\n",
       "  <selenium.webdriver.remote.webelement.WebElement (session=\"49e5d3f986e69dab74dca3e2ccdd77d8\", element=\"fb660d0d-64e2-46f2-875b-c4cf59378878\")>,\n",
       "  <selenium.webdriver.remote.webelement.WebElement (session=\"49e5d3f986e69dab74dca3e2ccdd77d8\", element=\"2fbf925b-8021-4358-bc53-afbb7116b0cb\")>,\n",
       "  <selenium.webdriver.remote.webelement.WebElement (session=\"49e5d3f986e69dab74dca3e2ccdd77d8\", element=\"cfb2dee8-990c-4121-8e9d-fff58e3a3427\")>,\n",
       "  <selenium.webdriver.remote.webelement.WebElement (session=\"49e5d3f986e69dab74dca3e2ccdd77d8\", element=\"2de832c6-83b6-4ed5-ba19-bbaf41c0222c\")>,\n",
       "  <selenium.webdriver.remote.webelement.WebElement (session=\"49e5d3f986e69dab74dca3e2ccdd77d8\", element=\"66c4848c-ba8b-4011-883c-a4446e462bf3\")>,\n",
       "  <selenium.webdriver.remote.webelement.WebElement (session=\"49e5d3f986e69dab74dca3e2ccdd77d8\", element=\"452ec326-83ba-4f75-af00-a69bfa76f5c0\")>,\n",
       "  <selenium.webdriver.remote.webelement.WebElement (session=\"49e5d3f986e69dab74dca3e2ccdd77d8\", element=\"5da2cf31-9024-4932-a456-163b27466ef6\")>,\n",
       "  <selenium.webdriver.remote.webelement.WebElement (session=\"49e5d3f986e69dab74dca3e2ccdd77d8\", element=\"7740d1b9-f43b-4772-b4a8-0f64ec0d5d1b\")>,\n",
       "  <selenium.webdriver.remote.webelement.WebElement (session=\"49e5d3f986e69dab74dca3e2ccdd77d8\", element=\"7751c6a7-3369-4d37-a72c-1fec13aeddb1\")>,\n",
       "  <selenium.webdriver.remote.webelement.WebElement (session=\"49e5d3f986e69dab74dca3e2ccdd77d8\", element=\"9e6e62b6-c234-4f55-a770-edec612c6938\")>,\n",
       "  <selenium.webdriver.remote.webelement.WebElement (session=\"49e5d3f986e69dab74dca3e2ccdd77d8\", element=\"45af4a27-7f18-4967-abcf-a94dfbdf1cbe\")>,\n",
       "  <selenium.webdriver.remote.webelement.WebElement (session=\"49e5d3f986e69dab74dca3e2ccdd77d8\", element=\"d3846455-2ec8-4d5b-8aec-a2fc5fe1d723\")>,\n",
       "  <selenium.webdriver.remote.webelement.WebElement (session=\"49e5d3f986e69dab74dca3e2ccdd77d8\", element=\"0c3df538-5bfa-454c-9054-5ff8696084c6\")>,\n",
       "  <selenium.webdriver.remote.webelement.WebElement (session=\"49e5d3f986e69dab74dca3e2ccdd77d8\", element=\"76698a52-6361-4cfa-86d9-31ecec428e09\")>,\n",
       "  <selenium.webdriver.remote.webelement.WebElement (session=\"49e5d3f986e69dab74dca3e2ccdd77d8\", element=\"8b8e98a3-f4bc-4f93-8af2-d4eb6ea59e6c\")>,\n",
       "  <selenium.webdriver.remote.webelement.WebElement (session=\"49e5d3f986e69dab74dca3e2ccdd77d8\", element=\"55e1ea06-0435-484c-86c8-134bfb9436fd\")>,\n",
       "  <selenium.webdriver.remote.webelement.WebElement (session=\"49e5d3f986e69dab74dca3e2ccdd77d8\", element=\"61d76be9-76e2-42a6-9823-b8b765e3aed2\")>,\n",
       "  <selenium.webdriver.remote.webelement.WebElement (session=\"49e5d3f986e69dab74dca3e2ccdd77d8\", element=\"480a74eb-9b06-408c-8ca6-5c5b19bd579d\")>,\n",
       "  <selenium.webdriver.remote.webelement.WebElement (session=\"49e5d3f986e69dab74dca3e2ccdd77d8\", element=\"fc818e19-be4b-4aab-bb56-c8bc1522c43f\")>,\n",
       "  <selenium.webdriver.remote.webelement.WebElement (session=\"49e5d3f986e69dab74dca3e2ccdd77d8\", element=\"7449966e-4489-4800-b96c-50a941678589\")>,\n",
       "  <selenium.webdriver.remote.webelement.WebElement (session=\"49e5d3f986e69dab74dca3e2ccdd77d8\", element=\"22d32847-d52a-4b78-827d-d2ed75cdefe0\")>,\n",
       "  <selenium.webdriver.remote.webelement.WebElement (session=\"49e5d3f986e69dab74dca3e2ccdd77d8\", element=\"4443028e-85bc-427f-bf86-75c5fa8f0135\")>,\n",
       "  <selenium.webdriver.remote.webelement.WebElement (session=\"49e5d3f986e69dab74dca3e2ccdd77d8\", element=\"89c07584-e011-480a-95c6-ff362c4ed8df\")>,\n",
       "  <selenium.webdriver.remote.webelement.WebElement (session=\"49e5d3f986e69dab74dca3e2ccdd77d8\", element=\"b65b9aa2-7d16-4df4-9eb0-fd4853d85dd3\")>,\n",
       "  <selenium.webdriver.remote.webelement.WebElement (session=\"49e5d3f986e69dab74dca3e2ccdd77d8\", element=\"b9d83894-6b8b-4b60-abbb-69a8b296a25b\")>,\n",
       "  <selenium.webdriver.remote.webelement.WebElement (session=\"49e5d3f986e69dab74dca3e2ccdd77d8\", element=\"0277797d-421f-45fd-a45d-9d36394b30e2\")>,\n",
       "  <selenium.webdriver.remote.webelement.WebElement (session=\"49e5d3f986e69dab74dca3e2ccdd77d8\", element=\"13396289-fb6b-4a93-9635-d219b32c527f\")>,\n",
       "  <selenium.webdriver.remote.webelement.WebElement (session=\"49e5d3f986e69dab74dca3e2ccdd77d8\", element=\"12e2347c-d8bd-4a92-b130-d97f04dcde42\")>,\n",
       "  <selenium.webdriver.remote.webelement.WebElement (session=\"49e5d3f986e69dab74dca3e2ccdd77d8\", element=\"7a9c346b-c7ed-43d0-84d4-449512baf176\")>,\n",
       "  <selenium.webdriver.remote.webelement.WebElement (session=\"49e5d3f986e69dab74dca3e2ccdd77d8\", element=\"dfa85b69-9571-4a1e-b8ba-34e24335b63c\")>,\n",
       "  <selenium.webdriver.remote.webelement.WebElement (session=\"49e5d3f986e69dab74dca3e2ccdd77d8\", element=\"d76b4053-940b-4833-8b9e-442816665f59\")>,\n",
       "  <selenium.webdriver.remote.webelement.WebElement (session=\"49e5d3f986e69dab74dca3e2ccdd77d8\", element=\"7a78bfc9-f8d0-4beb-aecf-ee7853d5e3b0\")>])"
      ]
     },
     "execution_count": 35,
     "metadata": {},
     "output_type": "execute_result"
    }
   ],
   "source": [
    "job_titles_tag,company_names_tag,locations_and_years"
   ]
  },
  {
   "cell_type": "code",
   "execution_count": 36,
   "metadata": {},
   "outputs": [],
   "source": [
    "#ExtractingJob title, Company name\n",
    "\n",
    "titles = []\n",
    "for i in job_titles_tag[:10]:\n",
    "    titles.append(i.text)\n",
    "    \n",
    "companys = []\n",
    "for i in company_names_tag[:10]:\n",
    "    companys.append(i.text)"
   ]
  },
  {
   "cell_type": "code",
   "execution_count": 37,
   "metadata": {},
   "outputs": [
    {
     "data": {
      "text/plain": [
       "(['Data Scientist / Data Analyst -Business Analyst',\n",
       "  'Senior Data Scientist - SQL/Spark/Python',\n",
       "  'Senior Data Scientist',\n",
       "  'VP - Sr. Data Scientist For Morgan Stanley, Bangalore',\n",
       "  'data scientist',\n",
       "  'Data analytics / Data scientist intern (work from Home)',\n",
       "  'Senior Data Scientist',\n",
       "  'Senior Data Scientist',\n",
       "  'Senior Data Scientist',\n",
       "  'Senior Data Scientist'],\n",
       " ['Inflexion Analytix Private Limited',\n",
       "  'Datamatics Business Solutions',\n",
       "  'RedBus',\n",
       "  'Morgan Stanley Advantage Services',\n",
       "  'Global Talent Pool',\n",
       "  'TalkValley LLC',\n",
       "  'Infocrunch Campaigns Pvt Ltd',\n",
       "  'ExecBoardinAsia',\n",
       "  'Walmart Labs',\n",
       "  'Perform Group'])"
      ]
     },
     "execution_count": 37,
     "metadata": {},
     "output_type": "execute_result"
    }
   ],
   "source": [
    "titles,companys"
   ]
  },
  {
   "cell_type": "code",
   "execution_count": 38,
   "metadata": {},
   "outputs": [],
   "source": [
    "# as class name for experiences, salary , location are same, we can loop through \n",
    "# and extract thier data as each salary,location,exp occur is same pattern in a lop in every 3 counts.\n",
    "# we can use modulus of 3 to iterate through loop\n",
    "\n",
    "exp = []\n",
    "\n",
    "location = []\n",
    "count = 0\n",
    "for i in locations_and_years[:30]:\n",
    "    \n",
    "    if(count%3==0):\n",
    "        exp.append(i.text)\n",
    "    \n",
    "    if(count%3==2):\n",
    "        location.append(i.text)\n",
    "        \n",
    "    count= count+1"
   ]
  },
  {
   "cell_type": "code",
   "execution_count": 39,
   "metadata": {},
   "outputs": [
    {
     "data": {
      "text/plain": [
       "(['0-3 Yrs',\n",
       "  '4-8 Yrs',\n",
       "  '5-8 Yrs',\n",
       "  '8-13 Yrs',\n",
       "  '0-2 Yrs',\n",
       "  '0-5 Yrs',\n",
       "  '3-7 Yrs',\n",
       "  '5-10 Yrs',\n",
       "  '8-10 Yrs',\n",
       "  '4-7 Yrs'],\n",
       " ['Mumbai, Hyderabad/Secunderabad, Pune, Gurgaon/Gurugram, Chennai, Bangalore/Bengaluru',\n",
       "  'Mumbai, Thane, Navi Mumbai',\n",
       "  'Bangalore/Bengaluru',\n",
       "  'Bangalore/Bengaluru',\n",
       "  'Bangalore/Bengaluru',\n",
       "  'Kolkata, Bangalore/Bengaluru, Delhi / NCR',\n",
       "  'Hyderabad/Secunderabad, Bangalore/Bengaluru, Delhi / NCR',\n",
       "  'Bangalore/Bengaluru',\n",
       "  'Bangalore/Bengaluru',\n",
       "  'Bangalore/Bengaluru'])"
      ]
     },
     "execution_count": 39,
     "metadata": {},
     "output_type": "execute_result"
    }
   ],
   "source": [
    "exp,location"
   ]
  },
  {
   "cell_type": "code",
   "execution_count": 40,
   "metadata": {},
   "outputs": [],
   "source": [
    "# creating a Dictionary to store in DatafRame\n",
    "\n",
    "\n",
    "jobs_dict_1 = {\n",
    "    'Job_title': titles, 'Company_name': companys,\n",
    "    'Experience Needed': exp, \n",
    "    'Job_Locations':location\n",
    "}"
   ]
  },
  {
   "cell_type": "code",
   "execution_count": 41,
   "metadata": {},
   "outputs": [],
   "source": [
    "# Create a DataFrame/ Table Structure\n",
    "\n",
    "job_Data_Analyst_BL = pd.DataFrame(jobs_dict_1)"
   ]
  },
  {
   "cell_type": "code",
   "execution_count": 42,
   "metadata": {},
   "outputs": [
    {
     "data": {
      "text/html": [
       "<div>\n",
       "<style scoped>\n",
       "    .dataframe tbody tr th:only-of-type {\n",
       "        vertical-align: middle;\n",
       "    }\n",
       "\n",
       "    .dataframe tbody tr th {\n",
       "        vertical-align: top;\n",
       "    }\n",
       "\n",
       "    .dataframe thead th {\n",
       "        text-align: right;\n",
       "    }\n",
       "</style>\n",
       "<table border=\"1\" class=\"dataframe\">\n",
       "  <thead>\n",
       "    <tr style=\"text-align: right;\">\n",
       "      <th></th>\n",
       "      <th>Job_title</th>\n",
       "      <th>Company_name</th>\n",
       "      <th>Experience Needed</th>\n",
       "      <th>Job_Locations</th>\n",
       "    </tr>\n",
       "  </thead>\n",
       "  <tbody>\n",
       "    <tr>\n",
       "      <th>0</th>\n",
       "      <td>Data Scientist / Data Analyst -Business Analyst</td>\n",
       "      <td>Inflexion Analytix Private Limited</td>\n",
       "      <td>0-3 Yrs</td>\n",
       "      <td>Mumbai, Hyderabad/Secunderabad, Pune, Gurgaon/...</td>\n",
       "    </tr>\n",
       "    <tr>\n",
       "      <th>1</th>\n",
       "      <td>Senior Data Scientist - SQL/Spark/Python</td>\n",
       "      <td>Datamatics Business Solutions</td>\n",
       "      <td>4-8 Yrs</td>\n",
       "      <td>Mumbai, Thane, Navi Mumbai</td>\n",
       "    </tr>\n",
       "    <tr>\n",
       "      <th>2</th>\n",
       "      <td>Senior Data Scientist</td>\n",
       "      <td>RedBus</td>\n",
       "      <td>5-8 Yrs</td>\n",
       "      <td>Bangalore/Bengaluru</td>\n",
       "    </tr>\n",
       "    <tr>\n",
       "      <th>3</th>\n",
       "      <td>VP - Sr. Data Scientist For Morgan Stanley, Ba...</td>\n",
       "      <td>Morgan Stanley Advantage Services</td>\n",
       "      <td>8-13 Yrs</td>\n",
       "      <td>Bangalore/Bengaluru</td>\n",
       "    </tr>\n",
       "    <tr>\n",
       "      <th>4</th>\n",
       "      <td>data scientist</td>\n",
       "      <td>Global Talent Pool</td>\n",
       "      <td>0-2 Yrs</td>\n",
       "      <td>Bangalore/Bengaluru</td>\n",
       "    </tr>\n",
       "    <tr>\n",
       "      <th>5</th>\n",
       "      <td>Data analytics / Data scientist intern (work f...</td>\n",
       "      <td>TalkValley LLC</td>\n",
       "      <td>0-5 Yrs</td>\n",
       "      <td>Kolkata, Bangalore/Bengaluru, Delhi / NCR</td>\n",
       "    </tr>\n",
       "    <tr>\n",
       "      <th>6</th>\n",
       "      <td>Senior Data Scientist</td>\n",
       "      <td>Infocrunch Campaigns Pvt Ltd</td>\n",
       "      <td>3-7 Yrs</td>\n",
       "      <td>Hyderabad/Secunderabad, Bangalore/Bengaluru, D...</td>\n",
       "    </tr>\n",
       "    <tr>\n",
       "      <th>7</th>\n",
       "      <td>Senior Data Scientist</td>\n",
       "      <td>ExecBoardinAsia</td>\n",
       "      <td>5-10 Yrs</td>\n",
       "      <td>Bangalore/Bengaluru</td>\n",
       "    </tr>\n",
       "    <tr>\n",
       "      <th>8</th>\n",
       "      <td>Senior Data Scientist</td>\n",
       "      <td>Walmart Labs</td>\n",
       "      <td>8-10 Yrs</td>\n",
       "      <td>Bangalore/Bengaluru</td>\n",
       "    </tr>\n",
       "    <tr>\n",
       "      <th>9</th>\n",
       "      <td>Senior Data Scientist</td>\n",
       "      <td>Perform Group</td>\n",
       "      <td>4-7 Yrs</td>\n",
       "      <td>Bangalore/Bengaluru</td>\n",
       "    </tr>\n",
       "  </tbody>\n",
       "</table>\n",
       "</div>"
      ],
      "text/plain": [
       "                                           Job_title  \\\n",
       "0    Data Scientist / Data Analyst -Business Analyst   \n",
       "1           Senior Data Scientist - SQL/Spark/Python   \n",
       "2                              Senior Data Scientist   \n",
       "3  VP - Sr. Data Scientist For Morgan Stanley, Ba...   \n",
       "4                                     data scientist   \n",
       "5  Data analytics / Data scientist intern (work f...   \n",
       "6                              Senior Data Scientist   \n",
       "7                              Senior Data Scientist   \n",
       "8                              Senior Data Scientist   \n",
       "9                              Senior Data Scientist   \n",
       "\n",
       "                         Company_name Experience Needed  \\\n",
       "0  Inflexion Analytix Private Limited           0-3 Yrs   \n",
       "1       Datamatics Business Solutions           4-8 Yrs   \n",
       "2                              RedBus           5-8 Yrs   \n",
       "3   Morgan Stanley Advantage Services          8-13 Yrs   \n",
       "4                  Global Talent Pool           0-2 Yrs   \n",
       "5                      TalkValley LLC           0-5 Yrs   \n",
       "6        Infocrunch Campaigns Pvt Ltd           3-7 Yrs   \n",
       "7                     ExecBoardinAsia          5-10 Yrs   \n",
       "8                        Walmart Labs          8-10 Yrs   \n",
       "9                       Perform Group           4-7 Yrs   \n",
       "\n",
       "                                       Job_Locations  \n",
       "0  Mumbai, Hyderabad/Secunderabad, Pune, Gurgaon/...  \n",
       "1                         Mumbai, Thane, Navi Mumbai  \n",
       "2                                Bangalore/Bengaluru  \n",
       "3                                Bangalore/Bengaluru  \n",
       "4                                Bangalore/Bengaluru  \n",
       "5          Kolkata, Bangalore/Bengaluru, Delhi / NCR  \n",
       "6  Hyderabad/Secunderabad, Bangalore/Bengaluru, D...  \n",
       "7                                Bangalore/Bengaluru  \n",
       "8                                Bangalore/Bengaluru  \n",
       "9                                Bangalore/Bengaluru  "
      ]
     },
     "execution_count": 42,
     "metadata": {},
     "output_type": "execute_result"
    }
   ],
   "source": [
    "#Scrapped Data for DATA ANALYST in Bangalore\n",
    "\n",
    "job_Data_Analyst_BL"
   ]
  },
  {
   "cell_type": "markdown",
   "metadata": {},
   "source": [
    "### Q2: Write a python program to scrape data for “Data Scientist” Job position in\n",
    "### “Bangalore” location. You have to scrape the job-title, job-location,\n",
    "### company_name, full job-description. You have to scrape first 10 jobs data.\n",
    "    \n",
    "    This task will be done in following steps:\n",
    "    \n",
    "    1. first get the webpage https://www.naukri.com/\n",
    "    2. Enter “Data Scientist” in “Skill,Designations,Companies” field and enter\n",
    "    “Bangalore” in “enter the location” field.\n",
    "    3. Then click the search button.\n",
    "    4. Then scrape the data for the first 10 jobs results you get.\n",
    "    5. Finally create a dataframe of the scraped data"
   ]
  },
  {
   "cell_type": "code",
   "execution_count": 119,
   "metadata": {},
   "outputs": [],
   "source": [
    "#proving the chrome drive with naukri url\n",
    "\n",
    "#IMPORTING chrome driver exe\n",
    "\n",
    "\n",
    "\n",
    "url = \"https://www.naukri.com/\"\n",
    "driver.get(url)"
   ]
  },
  {
   "cell_type": "code",
   "execution_count": 120,
   "metadata": {},
   "outputs": [
    {
     "data": {
      "text/plain": [
       "(<selenium.webdriver.remote.webelement.WebElement (session=\"49e5d3f986e69dab74dca3e2ccdd77d8\", element=\"f7de8382-7233-4181-b6c8-b76b855e29e2\")>,\n",
       " <selenium.webdriver.remote.webelement.WebElement (session=\"49e5d3f986e69dab74dca3e2ccdd77d8\", element=\"0c4ccd8a-8586-4d4b-8cff-d7e4d8c24a4f\")>,\n",
       " <selenium.webdriver.remote.webelement.WebElement (session=\"49e5d3f986e69dab74dca3e2ccdd77d8\", element=\"11d9b0e4-22e0-46d3-89b2-0b0266dfd0cc\")>)"
      ]
     },
     "execution_count": 120,
     "metadata": {},
     "output_type": "execute_result"
    }
   ],
   "source": [
    "### Findind search bars,location search bar, and Search Button by ID and giving it to the driver\n",
    "\n",
    "search_job = driver.find_element_by_id(\"qsb-keyword-sugg\")\n",
    "search_loc = driver.find_element_by_id(\"qsb-location-sugg\")\n",
    "search_btn = driver.find_element_by_class_name('btn')\n",
    "\n",
    "search_job,search_loc,search_btn"
   ]
  },
  {
   "cell_type": "code",
   "execution_count": 121,
   "metadata": {},
   "outputs": [],
   "source": [
    "# Porviding keys to search , givien in the previous step.\n",
    "\n",
    "\n",
    "search_job.send_keys(\"Data Scientist\")\n",
    "search_loc.send_keys(\"Bangalore\")\n",
    "search_btn.click()"
   ]
  },
  {
   "cell_type": "code",
   "execution_count": 122,
   "metadata": {},
   "outputs": [],
   "source": [
    "# AS per the search data given, Data retrieved extraction with XPATH with CLASSNAME\n",
    "# of job_title,comapny_name, location, and expierence years, salary\n",
    "\n",
    "\n",
    "job_titles_tag = driver.find_elements_by_xpath(\"//a[@class= 'title fw500 ellipsis']\")\n",
    "company_names_tag =  driver.find_elements_by_xpath(\"//a[@class= 'subTitle ellipsis fleft']\")\n",
    "job_location =  driver.find_elements_by_xpath(\"//span[@class= 'ellipsis fleft fs12 lh16']\")\n",
    "#exp_years_tag =  driver.find_elements_by_xpath(\"//span[@class= 'ellipsis fleft fs12 lh16']\")"
   ]
  },
  {
   "cell_type": "code",
   "execution_count": 389,
   "metadata": {},
   "outputs": [],
   "source": [
    "from selenium.common.exceptions import NoSuchElementException"
   ]
  },
  {
   "cell_type": "code",
   "execution_count": 124,
   "metadata": {},
   "outputs": [],
   "source": [
    "#ExtractingJob title, Company name\n",
    "# we are Excluding the 3rd Job title as it openes up a different web page for extracting job description .\n",
    "\n",
    "    \n",
    "companys = []\n",
    "for i in company_names_tag[:11]:\n",
    "    companys.append(i.text)\n"
   ]
  },
  {
   "cell_type": "code",
   "execution_count": 125,
   "metadata": {},
   "outputs": [
    {
     "data": {
      "text/plain": [
       "['Inflexion Analytix Private Limited',\n",
       " 'Global Talent Pool',\n",
       " 'TalkValley LLC',\n",
       " 'RedBus',\n",
       " 'Morgan Stanley Advantage Services',\n",
       " 'Infocrunch Campaigns Pvt Ltd',\n",
       " 'Walmart Labs',\n",
       " 'ExecBoardinAsia',\n",
       " 'Perform Group',\n",
       " 'intelligent industrial internet systems pvt ltd.',\n",
       " 'Walmart Labs']"
      ]
     },
     "execution_count": 125,
     "metadata": {},
     "output_type": "execute_result"
    }
   ],
   "source": [
    "companys"
   ]
  },
  {
   "cell_type": "code",
   "execution_count": 126,
   "metadata": {},
   "outputs": [],
   "source": [
    "# as class name for experiences, salary , location are same, we can loop through \n",
    "# and extract thier data as each salary,location,exp occur is same pattern in a lop in every 3 counts.\n",
    "# we can use modulus of 3 to iterate through loop\n",
    "\n",
    "\n",
    "\n",
    "location = []\n",
    "count = 0\n",
    "for i in job_location[:33]:\n",
    "  \n",
    "    if(count%3==2):\n",
    "        location.append(i.text)\n",
    "        \n",
    "    count= count+1\n"
   ]
  },
  {
   "cell_type": "code",
   "execution_count": 127,
   "metadata": {},
   "outputs": [
    {
     "data": {
      "text/plain": [
       "['Mumbai, Hyderabad/Secunderabad, Pune, Gurgaon/Gurugram, Chennai, Bangalore/Bengaluru',\n",
       " 'Bangalore/Bengaluru',\n",
       " 'Kolkata, Bangalore/Bengaluru, Delhi / NCR',\n",
       " 'Bangalore/Bengaluru',\n",
       " 'Bangalore/Bengaluru',\n",
       " 'Hyderabad/Secunderabad, Bangalore/Bengaluru, Delhi / NCR',\n",
       " 'Bangalore/Bengaluru',\n",
       " 'Bangalore/Bengaluru',\n",
       " 'Bangalore/Bengaluru',\n",
       " 'Bangalore/Bengaluru, Mumbai (All Areas)',\n",
       " 'Bangalore/Bengaluru']"
      ]
     },
     "execution_count": 127,
     "metadata": {},
     "output_type": "execute_result"
    }
   ],
   "source": [
    "location"
   ]
  },
  {
   "cell_type": "code",
   "execution_count": 128,
   "metadata": {},
   "outputs": [],
   "source": [
    "# Storing all the urls of Each JOB of Data Science to provide to the Driver further to get the Full job description.\n",
    "\n",
    "\n",
    "urls = []\n",
    "for i in job_titles_tag[:11]:\n",
    "    \n",
    "    urls.append(i.get_attribute('href'))\n",
    "    \n"
   ]
  },
  {
   "cell_type": "code",
   "execution_count": 129,
   "metadata": {},
   "outputs": [
    {
     "data": {
      "text/plain": [
       "11"
      ]
     },
     "execution_count": 129,
     "metadata": {},
     "output_type": "execute_result"
    }
   ],
   "source": [
    "len(urls)"
   ]
  },
  {
   "cell_type": "code",
   "execution_count": 130,
   "metadata": {},
   "outputs": [],
   "source": [
    "import numpy as np\n",
    "import time"
   ]
  },
  {
   "cell_type": "code",
   "execution_count": 134,
   "metadata": {
    "scrolled": true
   },
   "outputs": [],
   "source": [
    "### Looping through the urls,for each url driver gets the full description of that particular Job otherwise NaN\n",
    "\n",
    "full_descs = []\n",
    "full_Job_title = []\n",
    "for i in urls:\n",
    "    driver.get(i)\n",
    "    time.sleep(3)\n",
    "    try:\n",
    "        desc = driver.find_element_by_xpath(\"//div[@class= 'dang-inner-html']\")\n",
    "        title = driver.find_element_by_xpath(\"//h1[@class= 'jd-header-title']\")\n",
    "        full_descs.append(desc.text.replace('\\n',''))\n",
    "        full_Job_title.append(title.text)\n",
    "    except NoSuchElementException :\n",
    "        full_descs.append(np.NaN)\n",
    "        full_Job_title.append(np.NaN)\n",
    "    \n",
    "    "
   ]
  },
  {
   "cell_type": "code",
   "execution_count": 135,
   "metadata": {},
   "outputs": [
    {
     "data": {
      "text/plain": [
       "['Data Scientist / Data Analyst -Business Analyst',\n",
       " 'data scientist',\n",
       " 'Data analytics / Data scientist intern (work from Home)',\n",
       " nan,\n",
       " 'VP - Sr. Data Scientist For Morgan Stanley, Bangalore',\n",
       " 'Senior Data Scientist',\n",
       " 'Senior Data Scientist',\n",
       " 'Senior Data Scientist',\n",
       " 'Senior Data Scientist',\n",
       " 'Sr Data Scientist',\n",
       " 'Senior Data Scientist (Marketplace)']"
      ]
     },
     "execution_count": 135,
     "metadata": {},
     "output_type": "execute_result"
    }
   ],
   "source": [
    "full_Job_title"
   ]
  },
  {
   "cell_type": "code",
   "execution_count": 140,
   "metadata": {},
   "outputs": [],
   "source": [
    "jobs_2_dict = {\n",
    "    'Job_title': full_Job_title,\n",
    "    'Company_name': companys,\n",
    "    'Job_Locations': location,\n",
    "    'Full_Description': full_descs\n",
    "}"
   ]
  },
  {
   "cell_type": "code",
   "execution_count": 141,
   "metadata": {},
   "outputs": [],
   "source": [
    "jobs_data_scientist = pd.DataFrame(jobs_2_dict)"
   ]
  },
  {
   "cell_type": "code",
   "execution_count": 142,
   "metadata": {},
   "outputs": [
    {
     "data": {
      "text/html": [
       "<div>\n",
       "<style scoped>\n",
       "    .dataframe tbody tr th:only-of-type {\n",
       "        vertical-align: middle;\n",
       "    }\n",
       "\n",
       "    .dataframe tbody tr th {\n",
       "        vertical-align: top;\n",
       "    }\n",
       "\n",
       "    .dataframe thead th {\n",
       "        text-align: right;\n",
       "    }\n",
       "</style>\n",
       "<table border=\"1\" class=\"dataframe\">\n",
       "  <thead>\n",
       "    <tr style=\"text-align: right;\">\n",
       "      <th></th>\n",
       "      <th>Job_title</th>\n",
       "      <th>Company_name</th>\n",
       "      <th>Job_Locations</th>\n",
       "      <th>Full_Description</th>\n",
       "    </tr>\n",
       "  </thead>\n",
       "  <tbody>\n",
       "    <tr>\n",
       "      <th>0</th>\n",
       "      <td>Data Scientist / Data Analyst -Business Analyst</td>\n",
       "      <td>Inflexion Analytix Private Limited</td>\n",
       "      <td>Mumbai, Hyderabad/Secunderabad, Pune, Gurgaon/...</td>\n",
       "      <td>Job Role : Data Scientist/Data Analyst /Busine...</td>\n",
       "    </tr>\n",
       "    <tr>\n",
       "      <th>1</th>\n",
       "      <td>data scientist</td>\n",
       "      <td>Global Talent Pool</td>\n",
       "      <td>Bangalore/Bengaluru</td>\n",
       "      <td>Essential Duties ResponsibilitiesPerform basic...</td>\n",
       "    </tr>\n",
       "    <tr>\n",
       "      <th>2</th>\n",
       "      <td>Data analytics / Data scientist intern (work f...</td>\n",
       "      <td>TalkValley LLC</td>\n",
       "      <td>Kolkata, Bangalore/Bengaluru, Delhi / NCR</td>\n",
       "      <td>We are a group of tenured professors from Tier...</td>\n",
       "    </tr>\n",
       "    <tr>\n",
       "      <th>3</th>\n",
       "      <td>NaN</td>\n",
       "      <td>RedBus</td>\n",
       "      <td>Bangalore/Bengaluru</td>\n",
       "      <td>NaN</td>\n",
       "    </tr>\n",
       "    <tr>\n",
       "      <th>4</th>\n",
       "      <td>VP - Sr. Data Scientist For Morgan Stanley, Ba...</td>\n",
       "      <td>Morgan Stanley Advantage Services</td>\n",
       "      <td>Bangalore/Bengaluru</td>\n",
       "      <td>About UsMorgan Stanley is a leading global fin...</td>\n",
       "    </tr>\n",
       "    <tr>\n",
       "      <th>5</th>\n",
       "      <td>Senior Data Scientist</td>\n",
       "      <td>Infocrunch Campaigns Pvt Ltd</td>\n",
       "      <td>Hyderabad/Secunderabad, Bangalore/Bengaluru, D...</td>\n",
       "      <td>We are looking for a highly capable Data Scien...</td>\n",
       "    </tr>\n",
       "    <tr>\n",
       "      <th>6</th>\n",
       "      <td>Senior Data Scientist</td>\n",
       "      <td>Walmart Labs</td>\n",
       "      <td>Bangalore/Bengaluru</td>\n",
       "      <td>As a Senior Data Scientist for Walmart Labs, y...</td>\n",
       "    </tr>\n",
       "    <tr>\n",
       "      <th>7</th>\n",
       "      <td>Senior Data Scientist</td>\n",
       "      <td>ExecBoardinAsia</td>\n",
       "      <td>Bangalore/Bengaluru</td>\n",
       "      <td>The Senior Data Scientist is an exciting role ...</td>\n",
       "    </tr>\n",
       "    <tr>\n",
       "      <th>8</th>\n",
       "      <td>Senior Data Scientist</td>\n",
       "      <td>Perform Group</td>\n",
       "      <td>Bangalore/Bengaluru</td>\n",
       "      <td>Responsibilities: -Contribute across dierent s...</td>\n",
       "    </tr>\n",
       "    <tr>\n",
       "      <th>9</th>\n",
       "      <td>Sr Data Scientist</td>\n",
       "      <td>intelligent industrial internet systems pvt ltd.</td>\n",
       "      <td>Bangalore/Bengaluru, Mumbai (All Areas)</td>\n",
       "      <td>Roles and Responsibilities- Create an industry...</td>\n",
       "    </tr>\n",
       "    <tr>\n",
       "      <th>10</th>\n",
       "      <td>Senior Data Scientist (Marketplace)</td>\n",
       "      <td>Walmart Labs</td>\n",
       "      <td>Bangalore/Bengaluru</td>\n",
       "      <td>Position Responsibilitieso Solve business pr...</td>\n",
       "    </tr>\n",
       "  </tbody>\n",
       "</table>\n",
       "</div>"
      ],
      "text/plain": [
       "                                            Job_title  \\\n",
       "0     Data Scientist / Data Analyst -Business Analyst   \n",
       "1                                      data scientist   \n",
       "2   Data analytics / Data scientist intern (work f...   \n",
       "3                                                 NaN   \n",
       "4   VP - Sr. Data Scientist For Morgan Stanley, Ba...   \n",
       "5                               Senior Data Scientist   \n",
       "6                               Senior Data Scientist   \n",
       "7                               Senior Data Scientist   \n",
       "8                               Senior Data Scientist   \n",
       "9                                   Sr Data Scientist   \n",
       "10                Senior Data Scientist (Marketplace)   \n",
       "\n",
       "                                        Company_name  \\\n",
       "0                 Inflexion Analytix Private Limited   \n",
       "1                                 Global Talent Pool   \n",
       "2                                     TalkValley LLC   \n",
       "3                                             RedBus   \n",
       "4                  Morgan Stanley Advantage Services   \n",
       "5                       Infocrunch Campaigns Pvt Ltd   \n",
       "6                                       Walmart Labs   \n",
       "7                                    ExecBoardinAsia   \n",
       "8                                      Perform Group   \n",
       "9   intelligent industrial internet systems pvt ltd.   \n",
       "10                                      Walmart Labs   \n",
       "\n",
       "                                        Job_Locations  \\\n",
       "0   Mumbai, Hyderabad/Secunderabad, Pune, Gurgaon/...   \n",
       "1                                 Bangalore/Bengaluru   \n",
       "2           Kolkata, Bangalore/Bengaluru, Delhi / NCR   \n",
       "3                                 Bangalore/Bengaluru   \n",
       "4                                 Bangalore/Bengaluru   \n",
       "5   Hyderabad/Secunderabad, Bangalore/Bengaluru, D...   \n",
       "6                                 Bangalore/Bengaluru   \n",
       "7                                 Bangalore/Bengaluru   \n",
       "8                                 Bangalore/Bengaluru   \n",
       "9             Bangalore/Bengaluru, Mumbai (All Areas)   \n",
       "10                                Bangalore/Bengaluru   \n",
       "\n",
       "                                     Full_Description  \n",
       "0   Job Role : Data Scientist/Data Analyst /Busine...  \n",
       "1   Essential Duties ResponsibilitiesPerform basic...  \n",
       "2   We are a group of tenured professors from Tier...  \n",
       "3                                                 NaN  \n",
       "4   About UsMorgan Stanley is a leading global fin...  \n",
       "5   We are looking for a highly capable Data Scien...  \n",
       "6   As a Senior Data Scientist for Walmart Labs, y...  \n",
       "7   The Senior Data Scientist is an exciting role ...  \n",
       "8   Responsibilities: -Contribute across dierent s...  \n",
       "9   Roles and Responsibilities- Create an industry...  \n",
       "10    Position Responsibilitieso Solve business pr...  "
      ]
     },
     "execution_count": 142,
     "metadata": {},
     "output_type": "execute_result"
    }
   ],
   "source": [
    "jobs_data_scientist"
   ]
  },
  {
   "cell_type": "markdown",
   "metadata": {},
   "source": [
    "   ###  Q3: In this question you have to scrape data using the filters available on the webpage as shown below:\n",
    "    You have to use the location and salary filter.\n",
    "    You have to scrape data for “Data Scientist” designation for first 10 job results.\n",
    "    You have to scrape the job-title, job-location, company_name,\n",
    "    experience_required.\n",
    "    The location filter to be used is “Delhi/NCR”\n",
    "    The salary filter to be used is “3-6” lakhs\n",
    "    The task will be done as shown in the below steps:\n",
    "    1. first get the webpage https://www.naukri.com/\n",
    "    2. Enter “Data Scientist” in “Skill,Designations,Companies” field ."
   ]
  },
  {
   "cell_type": "code",
   "execution_count": 153,
   "metadata": {},
   "outputs": [],
   "source": [
    "#proving the chrome drive with naukri url\n",
    "\n",
    "url = \"https://www.naukri.com/\"\n",
    "driver.get(url)"
   ]
  },
  {
   "cell_type": "code",
   "execution_count": 154,
   "metadata": {},
   "outputs": [
    {
     "data": {
      "text/plain": [
       "(<selenium.webdriver.remote.webelement.WebElement (session=\"49e5d3f986e69dab74dca3e2ccdd77d8\", element=\"b1be7c1f-b417-4ecc-b74e-c815bde25249\")>,\n",
       " <selenium.webdriver.remote.webelement.WebElement (session=\"49e5d3f986e69dab74dca3e2ccdd77d8\", element=\"4eb7b675-8f05-4524-814a-f6b1884b2ee3\")>)"
      ]
     },
     "execution_count": 154,
     "metadata": {},
     "output_type": "execute_result"
    }
   ],
   "source": [
    "### Findind search bars,location search bar, and Search Button by ID and giving it to the driver\n",
    "\n",
    "search_job = driver.find_element_by_id(\"qsb-keyword-sugg\")\n",
    "\n",
    "search_btn = driver.find_element_by_class_name('btn')\n",
    "\n",
    "search_job,search_btn"
   ]
  },
  {
   "cell_type": "code",
   "execution_count": 155,
   "metadata": {},
   "outputs": [],
   "source": [
    "# Porviding keys to search , givien in the previous step.\n",
    "\n",
    "\n",
    "search_job.send_keys(\"Data Scientist\")\n",
    "\n",
    "search_btn.click()"
   ]
  },
  {
   "cell_type": "code",
   "execution_count": 166,
   "metadata": {},
   "outputs": [],
   "source": [
    "## Extracting filter links\n",
    "\n",
    "label = driver.find_element_by_xpath(\"//span[@title='Delhi / NCR']\")\n"
   ]
  },
  {
   "cell_type": "code",
   "execution_count": 167,
   "metadata": {},
   "outputs": [],
   "source": [
    "## applyng filter for delhi location\n",
    "label.click()\n"
   ]
  },
  {
   "cell_type": "code",
   "execution_count": 168,
   "metadata": {},
   "outputs": [],
   "source": [
    "salary= driver.find_element_by_xpath(\"//span[text()='3-6 Lakhs']\")"
   ]
  },
  {
   "cell_type": "code",
   "execution_count": 170,
   "metadata": {},
   "outputs": [],
   "source": [
    "salary.click()"
   ]
  },
  {
   "cell_type": "code",
   "execution_count": 171,
   "metadata": {},
   "outputs": [],
   "source": [
    "# AS per the search data given, Data retrieved extraction with XPATH with CLASSNAME\n",
    "# of job_title,comapny_name, location, and expierence years, salary\n",
    "\n",
    "\n",
    "job_titles_tag = driver.find_elements_by_xpath(\"//a[@class= 'title fw500 ellipsis']\")\n",
    "company_names_tag =  driver.find_elements_by_xpath(\"//a[@class= 'subTitle ellipsis fleft']\")\n",
    "exp_loc=  driver.find_elements_by_xpath(\"//span[@class= 'ellipsis fleft fs12 lh16']\")\n",
    "#exp_years_tag =  driver.find_elements_by_xpath(\"//span[@class= 'ellipsis fleft fs12 lh16']\")"
   ]
  },
  {
   "cell_type": "code",
   "execution_count": 172,
   "metadata": {},
   "outputs": [],
   "source": [
    "#ExtractingJob title, Company name\n",
    "# we are Excluding the 3rd Job title as it openes up a different web page for extracting job description .\n",
    "\n",
    "titles = []\n",
    "for i in job_titles_tag[0:10]:\n",
    "    titles.append(i.text)\n",
    "\n",
    "    \n",
    "companys = []\n",
    "for i in company_names_tag[:10]:\n",
    "    companys.append(i.text)\n"
   ]
  },
  {
   "cell_type": "code",
   "execution_count": 173,
   "metadata": {},
   "outputs": [
    {
     "data": {
      "text/plain": [
       "(['Data Scientist / Data Analyst -Business Analyst',\n",
       "  'Data analytics / Data scientist intern (work from Home)',\n",
       "  'Data Scientist',\n",
       "  'Chaayos is Looking For Data Scientist',\n",
       "  'Junior Data Scientist',\n",
       "  'We are hiring- Data Scientist +Python- Noida',\n",
       "  'Data Scientist',\n",
       "  'Data Scientist - High growth VC backed Influencer Marketplace',\n",
       "  'Data Scientist',\n",
       "  'Data Analyst/Scientist Big Data, Statistical Techniques'],\n",
       " ['Inflexion Analytix Private Limited',\n",
       "  'TalkValley LLC',\n",
       "  'Fractal Analytics',\n",
       "  'Chaayos (Sunshine Teahouse Pvt. Ltd.)',\n",
       "  'R Systems International Ltd.',\n",
       "  'RANDSTAD INDIA PVT LTD',\n",
       "  'Milliman India Pvt Ltd',\n",
       "  'Ravgins International Pvt. Ltd.',\n",
       "  'Country Veggie',\n",
       "  'The Search House (A Div of JSD Search House Pvt. L td.)'])"
      ]
     },
     "execution_count": 173,
     "metadata": {},
     "output_type": "execute_result"
    }
   ],
   "source": [
    "titles,companys"
   ]
  },
  {
   "cell_type": "code",
   "execution_count": 174,
   "metadata": {},
   "outputs": [],
   "source": [
    "#Extracting the Exp and Location together from the loop , as every 3 data is of each job, \n",
    "#from each 3 count, we can apply modulus and extract exp, location\n",
    "\n",
    "exp = []\n",
    "location = []\n",
    "count = 0\n",
    "for i in exp_loc[:30]:\n",
    "  \n",
    "    if(count%3==0):\n",
    "        exp.append(i.text)\n",
    "    \n",
    "    if(count%3==2):\n",
    "        location.append(i.text)\n",
    "        \n",
    "    count= count+1"
   ]
  },
  {
   "cell_type": "code",
   "execution_count": 175,
   "metadata": {},
   "outputs": [
    {
     "data": {
      "text/plain": [
       "(['0-3 Yrs',\n",
       "  '0-5 Yrs',\n",
       "  '3-7 Yrs',\n",
       "  '0-5 Yrs',\n",
       "  '3-5 Yrs',\n",
       "  '4-7 Yrs',\n",
       "  '2-5 Yrs',\n",
       "  '3-5 Yrs',\n",
       "  '1-3 Yrs',\n",
       "  '2-7 Yrs'],\n",
       " ['Mumbai, Hyderabad/Secunderabad, Pune, Gurgaon/Gurugram, Chennai, Bangalore/Bengaluru',\n",
       "  'Kolkata, Bangalore/Bengaluru, Delhi / NCR',\n",
       "  'Mumbai, Gurgaon/Gurugram, Bangalore/Bengaluru',\n",
       "  'New Delhi',\n",
       "  'Noida(Sector-59 Noida)',\n",
       "  'Noida, Gurgaon/Gurugram, Delhi / NCR',\n",
       "  'Gurgaon/Gurugram, Delhi / NCR',\n",
       "  'Bangalore/Bengaluru, Delhi / NCR, Mumbai (All Areas)',\n",
       "  'Bharuch, Jaipur, Bhopal, Mumbai, Jhansi, Nagpur, Ghaziabad, Jaunpur, Kanpur, New Delhi, Lucknow, Agra, Gurgaon/Gurugram, Rajkot, Bangalore/Bengaluru',\n",
       "  'Gurgaon/Gurugram'])"
      ]
     },
     "execution_count": 175,
     "metadata": {},
     "output_type": "execute_result"
    }
   ],
   "source": [
    "exp,location"
   ]
  },
  {
   "cell_type": "code",
   "execution_count": 176,
   "metadata": {},
   "outputs": [],
   "source": [
    "#Creating a dictionary for all the details\n",
    "\n",
    "jobs_filter_dict = {\n",
    "    'Job_title': titles,\n",
    "    'Company_name': companys,\n",
    "    'Job_Locations': location,\n",
    "    'Experience': exp\n",
    "}"
   ]
  },
  {
   "cell_type": "code",
   "execution_count": 177,
   "metadata": {},
   "outputs": [],
   "source": [
    "# creating dataframe/ Table from the Dictionary\n",
    "job_filter = pd.DataFrame(jobs_filter_dict)"
   ]
  },
  {
   "cell_type": "code",
   "execution_count": 178,
   "metadata": {},
   "outputs": [
    {
     "data": {
      "text/html": [
       "<div>\n",
       "<style scoped>\n",
       "    .dataframe tbody tr th:only-of-type {\n",
       "        vertical-align: middle;\n",
       "    }\n",
       "\n",
       "    .dataframe tbody tr th {\n",
       "        vertical-align: top;\n",
       "    }\n",
       "\n",
       "    .dataframe thead th {\n",
       "        text-align: right;\n",
       "    }\n",
       "</style>\n",
       "<table border=\"1\" class=\"dataframe\">\n",
       "  <thead>\n",
       "    <tr style=\"text-align: right;\">\n",
       "      <th></th>\n",
       "      <th>Job_title</th>\n",
       "      <th>Company_name</th>\n",
       "      <th>Job_Locations</th>\n",
       "      <th>Experience</th>\n",
       "    </tr>\n",
       "  </thead>\n",
       "  <tbody>\n",
       "    <tr>\n",
       "      <th>0</th>\n",
       "      <td>Data Scientist / Data Analyst -Business Analyst</td>\n",
       "      <td>Inflexion Analytix Private Limited</td>\n",
       "      <td>Mumbai, Hyderabad/Secunderabad, Pune, Gurgaon/...</td>\n",
       "      <td>0-3 Yrs</td>\n",
       "    </tr>\n",
       "    <tr>\n",
       "      <th>1</th>\n",
       "      <td>Data analytics / Data scientist intern (work f...</td>\n",
       "      <td>TalkValley LLC</td>\n",
       "      <td>Kolkata, Bangalore/Bengaluru, Delhi / NCR</td>\n",
       "      <td>0-5 Yrs</td>\n",
       "    </tr>\n",
       "    <tr>\n",
       "      <th>2</th>\n",
       "      <td>Data Scientist</td>\n",
       "      <td>Fractal Analytics</td>\n",
       "      <td>Mumbai, Gurgaon/Gurugram, Bangalore/Bengaluru</td>\n",
       "      <td>3-7 Yrs</td>\n",
       "    </tr>\n",
       "    <tr>\n",
       "      <th>3</th>\n",
       "      <td>Chaayos is Looking For Data Scientist</td>\n",
       "      <td>Chaayos (Sunshine Teahouse Pvt. Ltd.)</td>\n",
       "      <td>New Delhi</td>\n",
       "      <td>0-5 Yrs</td>\n",
       "    </tr>\n",
       "    <tr>\n",
       "      <th>4</th>\n",
       "      <td>Junior Data Scientist</td>\n",
       "      <td>R Systems International Ltd.</td>\n",
       "      <td>Noida(Sector-59 Noida)</td>\n",
       "      <td>3-5 Yrs</td>\n",
       "    </tr>\n",
       "    <tr>\n",
       "      <th>5</th>\n",
       "      <td>We are hiring- Data Scientist +Python- Noida</td>\n",
       "      <td>RANDSTAD INDIA PVT LTD</td>\n",
       "      <td>Noida, Gurgaon/Gurugram, Delhi / NCR</td>\n",
       "      <td>4-7 Yrs</td>\n",
       "    </tr>\n",
       "    <tr>\n",
       "      <th>6</th>\n",
       "      <td>Data Scientist</td>\n",
       "      <td>Milliman India Pvt Ltd</td>\n",
       "      <td>Gurgaon/Gurugram, Delhi / NCR</td>\n",
       "      <td>2-5 Yrs</td>\n",
       "    </tr>\n",
       "    <tr>\n",
       "      <th>7</th>\n",
       "      <td>Data Scientist - High growth VC backed Influen...</td>\n",
       "      <td>Ravgins International Pvt. Ltd.</td>\n",
       "      <td>Bangalore/Bengaluru, Delhi / NCR, Mumbai (All ...</td>\n",
       "      <td>3-5 Yrs</td>\n",
       "    </tr>\n",
       "    <tr>\n",
       "      <th>8</th>\n",
       "      <td>Data Scientist</td>\n",
       "      <td>Country Veggie</td>\n",
       "      <td>Bharuch, Jaipur, Bhopal, Mumbai, Jhansi, Nagpu...</td>\n",
       "      <td>1-3 Yrs</td>\n",
       "    </tr>\n",
       "    <tr>\n",
       "      <th>9</th>\n",
       "      <td>Data Analyst/Scientist Big Data, Statistical T...</td>\n",
       "      <td>The Search House (A Div of JSD Search House Pv...</td>\n",
       "      <td>Gurgaon/Gurugram</td>\n",
       "      <td>2-7 Yrs</td>\n",
       "    </tr>\n",
       "  </tbody>\n",
       "</table>\n",
       "</div>"
      ],
      "text/plain": [
       "                                           Job_title  \\\n",
       "0    Data Scientist / Data Analyst -Business Analyst   \n",
       "1  Data analytics / Data scientist intern (work f...   \n",
       "2                                     Data Scientist   \n",
       "3              Chaayos is Looking For Data Scientist   \n",
       "4                              Junior Data Scientist   \n",
       "5       We are hiring- Data Scientist +Python- Noida   \n",
       "6                                     Data Scientist   \n",
       "7  Data Scientist - High growth VC backed Influen...   \n",
       "8                                     Data Scientist   \n",
       "9  Data Analyst/Scientist Big Data, Statistical T...   \n",
       "\n",
       "                                        Company_name  \\\n",
       "0                 Inflexion Analytix Private Limited   \n",
       "1                                     TalkValley LLC   \n",
       "2                                  Fractal Analytics   \n",
       "3              Chaayos (Sunshine Teahouse Pvt. Ltd.)   \n",
       "4                       R Systems International Ltd.   \n",
       "5                             RANDSTAD INDIA PVT LTD   \n",
       "6                             Milliman India Pvt Ltd   \n",
       "7                    Ravgins International Pvt. Ltd.   \n",
       "8                                     Country Veggie   \n",
       "9  The Search House (A Div of JSD Search House Pv...   \n",
       "\n",
       "                                       Job_Locations Experience  \n",
       "0  Mumbai, Hyderabad/Secunderabad, Pune, Gurgaon/...    0-3 Yrs  \n",
       "1          Kolkata, Bangalore/Bengaluru, Delhi / NCR    0-5 Yrs  \n",
       "2      Mumbai, Gurgaon/Gurugram, Bangalore/Bengaluru    3-7 Yrs  \n",
       "3                                          New Delhi    0-5 Yrs  \n",
       "4                             Noida(Sector-59 Noida)    3-5 Yrs  \n",
       "5               Noida, Gurgaon/Gurugram, Delhi / NCR    4-7 Yrs  \n",
       "6                      Gurgaon/Gurugram, Delhi / NCR    2-5 Yrs  \n",
       "7  Bangalore/Bengaluru, Delhi / NCR, Mumbai (All ...    3-5 Yrs  \n",
       "8  Bharuch, Jaipur, Bhopal, Mumbai, Jhansi, Nagpu...    1-3 Yrs  \n",
       "9                                   Gurgaon/Gurugram    2-7 Yrs  "
      ]
     },
     "execution_count": 178,
     "metadata": {},
     "output_type": "execute_result"
    }
   ],
   "source": [
    "job_filter"
   ]
  },
  {
   "cell_type": "markdown",
   "metadata": {},
   "source": [
    "### Q4: Write a python program to scrape data for first 10 job results for Data scientist\n",
    " \n",
    " ###  Designation in Noida location. \n",
    "     You have to scrape company_name, No. of days\n",
    "    ago when job was posted, Rating of the company.\n",
    "    This task will be done in following steps:\n",
    "    1. first get the webpage https://www.glassdoor.co.in/index.htm\n",
    "    2. Enter “Data Scientist” in “Job Title,Keyword,Company” field and enter “Noida”\n",
    "    in “location” field"
   ]
  },
  {
   "cell_type": "code",
   "execution_count": 453,
   "metadata": {},
   "outputs": [],
   "source": [
    "import requests"
   ]
  },
  {
   "cell_type": "code",
   "execution_count": 480,
   "metadata": {},
   "outputs": [],
   "source": [
    "#proving the chrome drive with naukri url\n",
    "\n",
    "url = \"https://www.glassdoor.co.in/index.htm/\"\n",
    "driver.get(url)"
   ]
  },
  {
   "cell_type": "code",
   "execution_count": 481,
   "metadata": {},
   "outputs": [
    {
     "data": {
      "text/plain": [
       "<Response [403]>"
      ]
     },
     "execution_count": 481,
     "metadata": {},
     "output_type": "execute_result"
    }
   ],
   "source": [
    "requests.get(url)"
   ]
  },
  {
   "cell_type": "code",
   "execution_count": 482,
   "metadata": {},
   "outputs": [
    {
     "data": {
      "text/plain": [
       "<Response [403]>"
      ]
     },
     "execution_count": 482,
     "metadata": {},
     "output_type": "execute_result"
    }
   ],
   "source": [
    "requests.get(url)"
   ]
  },
  {
   "cell_type": "code",
   "execution_count": 487,
   "metadata": {},
   "outputs": [
    {
     "data": {
      "text/plain": [
       "(<selenium.webdriver.remote.webelement.WebElement (session=\"3ced85889e087e0df113d0ced8a5203c\", element=\"e0ea4b6e-e388-4295-894c-a129d8d833e7\")>,\n",
       " <selenium.webdriver.remote.webelement.WebElement (session=\"3ced85889e087e0df113d0ced8a5203c\", element=\"c5cab0e2-1c4e-45c4-941a-f1dc2d9b4768\")>)"
      ]
     },
     "execution_count": 487,
     "metadata": {},
     "output_type": "execute_result"
    }
   ],
   "source": [
    "### Findind search bars,location search bar, and Search Button by ID and giving it to the driver\n",
    "\n",
    "search_job = driver.find_element_by_xpath(\"//input[@class='css-1etjok6']\")\n",
    "search_btn = driver.find_element_by_xpath(\"//button[@data-test='search-bar-submit']\")\n",
    "search_job,search_btn"
   ]
  },
  {
   "cell_type": "code",
   "execution_count": 488,
   "metadata": {},
   "outputs": [
    {
     "ename": "ElementNotInteractableException",
     "evalue": "Message: element not interactable\n  (Session info: chrome=91.0.4472.101)\n",
     "output_type": "error",
     "traceback": [
      "\u001b[1;31m---------------------------------------------------------------------------\u001b[0m",
      "\u001b[1;31mElementNotInteractableException\u001b[0m           Traceback (most recent call last)",
      "\u001b[1;32m<ipython-input-488-a83f3b64ac08>\u001b[0m in \u001b[0;36m<module>\u001b[1;34m\u001b[0m\n\u001b[0;32m      1\u001b[0m \u001b[1;31m# Sending Keys for searching and Clicking the Search button\u001b[0m\u001b[1;33m\u001b[0m\u001b[1;33m\u001b[0m\u001b[1;33m\u001b[0m\u001b[0m\n\u001b[0;32m      2\u001b[0m \u001b[1;33m\u001b[0m\u001b[0m\n\u001b[1;32m----> 3\u001b[1;33m \u001b[0msearch_job\u001b[0m\u001b[1;33m.\u001b[0m\u001b[0msend_keys\u001b[0m\u001b[1;33m(\u001b[0m\u001b[1;34m\"Data Scientist\"\u001b[0m\u001b[1;33m)\u001b[0m\u001b[1;33m\u001b[0m\u001b[1;33m\u001b[0m\u001b[0m\n\u001b[0m",
      "\u001b[1;32m~\\anaconda3\\lib\\site-packages\\selenium\\webdriver\\remote\\webelement.py\u001b[0m in \u001b[0;36msend_keys\u001b[1;34m(self, *value)\u001b[0m\n\u001b[0;32m    475\u001b[0m                 \u001b[0mvalue\u001b[0m \u001b[1;33m=\u001b[0m \u001b[0mself\u001b[0m\u001b[1;33m.\u001b[0m\u001b[0m_upload\u001b[0m\u001b[1;33m(\u001b[0m\u001b[0mlocal_file\u001b[0m\u001b[1;33m)\u001b[0m\u001b[1;33m\u001b[0m\u001b[1;33m\u001b[0m\u001b[0m\n\u001b[0;32m    476\u001b[0m \u001b[1;33m\u001b[0m\u001b[0m\n\u001b[1;32m--> 477\u001b[1;33m         self._execute(Command.SEND_KEYS_TO_ELEMENT,\n\u001b[0m\u001b[0;32m    478\u001b[0m                       {'text': \"\".join(keys_to_typing(value)),\n\u001b[0;32m    479\u001b[0m                        'value': keys_to_typing(value)})\n",
      "\u001b[1;32m~\\anaconda3\\lib\\site-packages\\selenium\\webdriver\\remote\\webelement.py\u001b[0m in \u001b[0;36m_execute\u001b[1;34m(self, command, params)\u001b[0m\n\u001b[0;32m    631\u001b[0m             \u001b[0mparams\u001b[0m \u001b[1;33m=\u001b[0m \u001b[1;33m{\u001b[0m\u001b[1;33m}\u001b[0m\u001b[1;33m\u001b[0m\u001b[1;33m\u001b[0m\u001b[0m\n\u001b[0;32m    632\u001b[0m         \u001b[0mparams\u001b[0m\u001b[1;33m[\u001b[0m\u001b[1;34m'id'\u001b[0m\u001b[1;33m]\u001b[0m \u001b[1;33m=\u001b[0m \u001b[0mself\u001b[0m\u001b[1;33m.\u001b[0m\u001b[0m_id\u001b[0m\u001b[1;33m\u001b[0m\u001b[1;33m\u001b[0m\u001b[0m\n\u001b[1;32m--> 633\u001b[1;33m         \u001b[1;32mreturn\u001b[0m \u001b[0mself\u001b[0m\u001b[1;33m.\u001b[0m\u001b[0m_parent\u001b[0m\u001b[1;33m.\u001b[0m\u001b[0mexecute\u001b[0m\u001b[1;33m(\u001b[0m\u001b[0mcommand\u001b[0m\u001b[1;33m,\u001b[0m \u001b[0mparams\u001b[0m\u001b[1;33m)\u001b[0m\u001b[1;33m\u001b[0m\u001b[1;33m\u001b[0m\u001b[0m\n\u001b[0m\u001b[0;32m    634\u001b[0m \u001b[1;33m\u001b[0m\u001b[0m\n\u001b[0;32m    635\u001b[0m     \u001b[1;32mdef\u001b[0m \u001b[0mfind_element\u001b[0m\u001b[1;33m(\u001b[0m\u001b[0mself\u001b[0m\u001b[1;33m,\u001b[0m \u001b[0mby\u001b[0m\u001b[1;33m=\u001b[0m\u001b[0mBy\u001b[0m\u001b[1;33m.\u001b[0m\u001b[0mID\u001b[0m\u001b[1;33m,\u001b[0m \u001b[0mvalue\u001b[0m\u001b[1;33m=\u001b[0m\u001b[1;32mNone\u001b[0m\u001b[1;33m)\u001b[0m\u001b[1;33m:\u001b[0m\u001b[1;33m\u001b[0m\u001b[1;33m\u001b[0m\u001b[0m\n",
      "\u001b[1;32m~\\anaconda3\\lib\\site-packages\\selenium\\webdriver\\remote\\webdriver.py\u001b[0m in \u001b[0;36mexecute\u001b[1;34m(self, driver_command, params)\u001b[0m\n\u001b[0;32m    319\u001b[0m         \u001b[0mresponse\u001b[0m \u001b[1;33m=\u001b[0m \u001b[0mself\u001b[0m\u001b[1;33m.\u001b[0m\u001b[0mcommand_executor\u001b[0m\u001b[1;33m.\u001b[0m\u001b[0mexecute\u001b[0m\u001b[1;33m(\u001b[0m\u001b[0mdriver_command\u001b[0m\u001b[1;33m,\u001b[0m \u001b[0mparams\u001b[0m\u001b[1;33m)\u001b[0m\u001b[1;33m\u001b[0m\u001b[1;33m\u001b[0m\u001b[0m\n\u001b[0;32m    320\u001b[0m         \u001b[1;32mif\u001b[0m \u001b[0mresponse\u001b[0m\u001b[1;33m:\u001b[0m\u001b[1;33m\u001b[0m\u001b[1;33m\u001b[0m\u001b[0m\n\u001b[1;32m--> 321\u001b[1;33m             \u001b[0mself\u001b[0m\u001b[1;33m.\u001b[0m\u001b[0merror_handler\u001b[0m\u001b[1;33m.\u001b[0m\u001b[0mcheck_response\u001b[0m\u001b[1;33m(\u001b[0m\u001b[0mresponse\u001b[0m\u001b[1;33m)\u001b[0m\u001b[1;33m\u001b[0m\u001b[1;33m\u001b[0m\u001b[0m\n\u001b[0m\u001b[0;32m    322\u001b[0m             response['value'] = self._unwrap_value(\n\u001b[0;32m    323\u001b[0m                 response.get('value', None))\n",
      "\u001b[1;32m~\\anaconda3\\lib\\site-packages\\selenium\\webdriver\\remote\\errorhandler.py\u001b[0m in \u001b[0;36mcheck_response\u001b[1;34m(self, response)\u001b[0m\n\u001b[0;32m    240\u001b[0m                 \u001b[0malert_text\u001b[0m \u001b[1;33m=\u001b[0m \u001b[0mvalue\u001b[0m\u001b[1;33m[\u001b[0m\u001b[1;34m'alert'\u001b[0m\u001b[1;33m]\u001b[0m\u001b[1;33m.\u001b[0m\u001b[0mget\u001b[0m\u001b[1;33m(\u001b[0m\u001b[1;34m'text'\u001b[0m\u001b[1;33m)\u001b[0m\u001b[1;33m\u001b[0m\u001b[1;33m\u001b[0m\u001b[0m\n\u001b[0;32m    241\u001b[0m             \u001b[1;32mraise\u001b[0m \u001b[0mexception_class\u001b[0m\u001b[1;33m(\u001b[0m\u001b[0mmessage\u001b[0m\u001b[1;33m,\u001b[0m \u001b[0mscreen\u001b[0m\u001b[1;33m,\u001b[0m \u001b[0mstacktrace\u001b[0m\u001b[1;33m,\u001b[0m \u001b[0malert_text\u001b[0m\u001b[1;33m)\u001b[0m\u001b[1;33m\u001b[0m\u001b[1;33m\u001b[0m\u001b[0m\n\u001b[1;32m--> 242\u001b[1;33m         \u001b[1;32mraise\u001b[0m \u001b[0mexception_class\u001b[0m\u001b[1;33m(\u001b[0m\u001b[0mmessage\u001b[0m\u001b[1;33m,\u001b[0m \u001b[0mscreen\u001b[0m\u001b[1;33m,\u001b[0m \u001b[0mstacktrace\u001b[0m\u001b[1;33m)\u001b[0m\u001b[1;33m\u001b[0m\u001b[1;33m\u001b[0m\u001b[0m\n\u001b[0m\u001b[0;32m    243\u001b[0m \u001b[1;33m\u001b[0m\u001b[0m\n\u001b[0;32m    244\u001b[0m     \u001b[1;32mdef\u001b[0m \u001b[0m_value_or_default\u001b[0m\u001b[1;33m(\u001b[0m\u001b[0mself\u001b[0m\u001b[1;33m,\u001b[0m \u001b[0mobj\u001b[0m\u001b[1;33m,\u001b[0m \u001b[0mkey\u001b[0m\u001b[1;33m,\u001b[0m \u001b[0mdefault\u001b[0m\u001b[1;33m)\u001b[0m\u001b[1;33m:\u001b[0m\u001b[1;33m\u001b[0m\u001b[1;33m\u001b[0m\u001b[0m\n",
      "\u001b[1;31mElementNotInteractableException\u001b[0m: Message: element not interactable\n  (Session info: chrome=91.0.4472.101)\n"
     ]
    }
   ],
   "source": [
    "# Sending Keys for searching and Clicking the Search button\n",
    "\n",
    "search_job.send_keys(\"Data Scientist\")\n"
   ]
  },
  {
   "cell_type": "code",
   "execution_count": 489,
   "metadata": {},
   "outputs": [
    {
     "ename": "ElementNotInteractableException",
     "evalue": "Message: element not interactable\n  (Session info: chrome=91.0.4472.101)\n",
     "output_type": "error",
     "traceback": [
      "\u001b[1;31m---------------------------------------------------------------------------\u001b[0m",
      "\u001b[1;31mElementNotInteractableException\u001b[0m           Traceback (most recent call last)",
      "\u001b[1;32m<ipython-input-489-de9dba617963>\u001b[0m in \u001b[0;36m<module>\u001b[1;34m\u001b[0m\n\u001b[1;32m----> 1\u001b[1;33m \u001b[0msearch_btn\u001b[0m\u001b[1;33m.\u001b[0m\u001b[0mclick\u001b[0m\u001b[1;33m(\u001b[0m\u001b[1;33m)\u001b[0m\u001b[1;33m\u001b[0m\u001b[1;33m\u001b[0m\u001b[0m\n\u001b[0m",
      "\u001b[1;32m~\\anaconda3\\lib\\site-packages\\selenium\\webdriver\\remote\\webelement.py\u001b[0m in \u001b[0;36mclick\u001b[1;34m(self)\u001b[0m\n\u001b[0;32m     78\u001b[0m     \u001b[1;32mdef\u001b[0m \u001b[0mclick\u001b[0m\u001b[1;33m(\u001b[0m\u001b[0mself\u001b[0m\u001b[1;33m)\u001b[0m\u001b[1;33m:\u001b[0m\u001b[1;33m\u001b[0m\u001b[1;33m\u001b[0m\u001b[0m\n\u001b[0;32m     79\u001b[0m         \u001b[1;34m\"\"\"Clicks the element.\"\"\"\u001b[0m\u001b[1;33m\u001b[0m\u001b[1;33m\u001b[0m\u001b[0m\n\u001b[1;32m---> 80\u001b[1;33m         \u001b[0mself\u001b[0m\u001b[1;33m.\u001b[0m\u001b[0m_execute\u001b[0m\u001b[1;33m(\u001b[0m\u001b[0mCommand\u001b[0m\u001b[1;33m.\u001b[0m\u001b[0mCLICK_ELEMENT\u001b[0m\u001b[1;33m)\u001b[0m\u001b[1;33m\u001b[0m\u001b[1;33m\u001b[0m\u001b[0m\n\u001b[0m\u001b[0;32m     81\u001b[0m \u001b[1;33m\u001b[0m\u001b[0m\n\u001b[0;32m     82\u001b[0m     \u001b[1;32mdef\u001b[0m \u001b[0msubmit\u001b[0m\u001b[1;33m(\u001b[0m\u001b[0mself\u001b[0m\u001b[1;33m)\u001b[0m\u001b[1;33m:\u001b[0m\u001b[1;33m\u001b[0m\u001b[1;33m\u001b[0m\u001b[0m\n",
      "\u001b[1;32m~\\anaconda3\\lib\\site-packages\\selenium\\webdriver\\remote\\webelement.py\u001b[0m in \u001b[0;36m_execute\u001b[1;34m(self, command, params)\u001b[0m\n\u001b[0;32m    631\u001b[0m             \u001b[0mparams\u001b[0m \u001b[1;33m=\u001b[0m \u001b[1;33m{\u001b[0m\u001b[1;33m}\u001b[0m\u001b[1;33m\u001b[0m\u001b[1;33m\u001b[0m\u001b[0m\n\u001b[0;32m    632\u001b[0m         \u001b[0mparams\u001b[0m\u001b[1;33m[\u001b[0m\u001b[1;34m'id'\u001b[0m\u001b[1;33m]\u001b[0m \u001b[1;33m=\u001b[0m \u001b[0mself\u001b[0m\u001b[1;33m.\u001b[0m\u001b[0m_id\u001b[0m\u001b[1;33m\u001b[0m\u001b[1;33m\u001b[0m\u001b[0m\n\u001b[1;32m--> 633\u001b[1;33m         \u001b[1;32mreturn\u001b[0m \u001b[0mself\u001b[0m\u001b[1;33m.\u001b[0m\u001b[0m_parent\u001b[0m\u001b[1;33m.\u001b[0m\u001b[0mexecute\u001b[0m\u001b[1;33m(\u001b[0m\u001b[0mcommand\u001b[0m\u001b[1;33m,\u001b[0m \u001b[0mparams\u001b[0m\u001b[1;33m)\u001b[0m\u001b[1;33m\u001b[0m\u001b[1;33m\u001b[0m\u001b[0m\n\u001b[0m\u001b[0;32m    634\u001b[0m \u001b[1;33m\u001b[0m\u001b[0m\n\u001b[0;32m    635\u001b[0m     \u001b[1;32mdef\u001b[0m \u001b[0mfind_element\u001b[0m\u001b[1;33m(\u001b[0m\u001b[0mself\u001b[0m\u001b[1;33m,\u001b[0m \u001b[0mby\u001b[0m\u001b[1;33m=\u001b[0m\u001b[0mBy\u001b[0m\u001b[1;33m.\u001b[0m\u001b[0mID\u001b[0m\u001b[1;33m,\u001b[0m \u001b[0mvalue\u001b[0m\u001b[1;33m=\u001b[0m\u001b[1;32mNone\u001b[0m\u001b[1;33m)\u001b[0m\u001b[1;33m:\u001b[0m\u001b[1;33m\u001b[0m\u001b[1;33m\u001b[0m\u001b[0m\n",
      "\u001b[1;32m~\\anaconda3\\lib\\site-packages\\selenium\\webdriver\\remote\\webdriver.py\u001b[0m in \u001b[0;36mexecute\u001b[1;34m(self, driver_command, params)\u001b[0m\n\u001b[0;32m    319\u001b[0m         \u001b[0mresponse\u001b[0m \u001b[1;33m=\u001b[0m \u001b[0mself\u001b[0m\u001b[1;33m.\u001b[0m\u001b[0mcommand_executor\u001b[0m\u001b[1;33m.\u001b[0m\u001b[0mexecute\u001b[0m\u001b[1;33m(\u001b[0m\u001b[0mdriver_command\u001b[0m\u001b[1;33m,\u001b[0m \u001b[0mparams\u001b[0m\u001b[1;33m)\u001b[0m\u001b[1;33m\u001b[0m\u001b[1;33m\u001b[0m\u001b[0m\n\u001b[0;32m    320\u001b[0m         \u001b[1;32mif\u001b[0m \u001b[0mresponse\u001b[0m\u001b[1;33m:\u001b[0m\u001b[1;33m\u001b[0m\u001b[1;33m\u001b[0m\u001b[0m\n\u001b[1;32m--> 321\u001b[1;33m             \u001b[0mself\u001b[0m\u001b[1;33m.\u001b[0m\u001b[0merror_handler\u001b[0m\u001b[1;33m.\u001b[0m\u001b[0mcheck_response\u001b[0m\u001b[1;33m(\u001b[0m\u001b[0mresponse\u001b[0m\u001b[1;33m)\u001b[0m\u001b[1;33m\u001b[0m\u001b[1;33m\u001b[0m\u001b[0m\n\u001b[0m\u001b[0;32m    322\u001b[0m             response['value'] = self._unwrap_value(\n\u001b[0;32m    323\u001b[0m                 response.get('value', None))\n",
      "\u001b[1;32m~\\anaconda3\\lib\\site-packages\\selenium\\webdriver\\remote\\errorhandler.py\u001b[0m in \u001b[0;36mcheck_response\u001b[1;34m(self, response)\u001b[0m\n\u001b[0;32m    240\u001b[0m                 \u001b[0malert_text\u001b[0m \u001b[1;33m=\u001b[0m \u001b[0mvalue\u001b[0m\u001b[1;33m[\u001b[0m\u001b[1;34m'alert'\u001b[0m\u001b[1;33m]\u001b[0m\u001b[1;33m.\u001b[0m\u001b[0mget\u001b[0m\u001b[1;33m(\u001b[0m\u001b[1;34m'text'\u001b[0m\u001b[1;33m)\u001b[0m\u001b[1;33m\u001b[0m\u001b[1;33m\u001b[0m\u001b[0m\n\u001b[0;32m    241\u001b[0m             \u001b[1;32mraise\u001b[0m \u001b[0mexception_class\u001b[0m\u001b[1;33m(\u001b[0m\u001b[0mmessage\u001b[0m\u001b[1;33m,\u001b[0m \u001b[0mscreen\u001b[0m\u001b[1;33m,\u001b[0m \u001b[0mstacktrace\u001b[0m\u001b[1;33m,\u001b[0m \u001b[0malert_text\u001b[0m\u001b[1;33m)\u001b[0m\u001b[1;33m\u001b[0m\u001b[1;33m\u001b[0m\u001b[0m\n\u001b[1;32m--> 242\u001b[1;33m         \u001b[1;32mraise\u001b[0m \u001b[0mexception_class\u001b[0m\u001b[1;33m(\u001b[0m\u001b[0mmessage\u001b[0m\u001b[1;33m,\u001b[0m \u001b[0mscreen\u001b[0m\u001b[1;33m,\u001b[0m \u001b[0mstacktrace\u001b[0m\u001b[1;33m)\u001b[0m\u001b[1;33m\u001b[0m\u001b[1;33m\u001b[0m\u001b[0m\n\u001b[0m\u001b[0;32m    243\u001b[0m \u001b[1;33m\u001b[0m\u001b[0m\n\u001b[0;32m    244\u001b[0m     \u001b[1;32mdef\u001b[0m \u001b[0m_value_or_default\u001b[0m\u001b[1;33m(\u001b[0m\u001b[0mself\u001b[0m\u001b[1;33m,\u001b[0m \u001b[0mobj\u001b[0m\u001b[1;33m,\u001b[0m \u001b[0mkey\u001b[0m\u001b[1;33m,\u001b[0m \u001b[0mdefault\u001b[0m\u001b[1;33m)\u001b[0m\u001b[1;33m:\u001b[0m\u001b[1;33m\u001b[0m\u001b[1;33m\u001b[0m\u001b[0m\n",
      "\u001b[1;31mElementNotInteractableException\u001b[0m: Message: element not interactable\n  (Session info: chrome=91.0.4472.101)\n"
     ]
    }
   ],
   "source": [
    "   \n",
    "search_btn.click()"
   ]
  },
  {
   "cell_type": "code",
   "execution_count": 475,
   "metadata": {},
   "outputs": [],
   "source": [
    "# Search Location, Search Button element retrieval\n",
    "\n",
    "search_loc = driver.find_element_by_xpath(\"//input[@id='sc.location']\")\n",
    "search_btn = driver.find_element_by_xpath(\"//button[@data-test='search-bar-submit']\")\n"
   ]
  },
  {
   "cell_type": "code",
   "execution_count": 249,
   "metadata": {},
   "outputs": [],
   "source": [
    "search_loc.clear()"
   ]
  },
  {
   "cell_type": "code",
   "execution_count": 250,
   "metadata": {},
   "outputs": [],
   "source": [
    "# Giving the Location for search as Noida\n",
    "search_loc.clear()\n",
    "    \n",
    "search_loc.send_keys('Noida')"
   ]
  },
  {
   "cell_type": "code",
   "execution_count": 251,
   "metadata": {},
   "outputs": [],
   "source": [
    "search_btn.click()"
   ]
  },
  {
   "cell_type": "code",
   "execution_count": 252,
   "metadata": {},
   "outputs": [],
   "source": [
    "# elements retrieval\n",
    "\n",
    "companies = driver.find_elements_by_xpath(\"//div[@class='d-flex justify-content-between align-items-start']\")\n",
    "\n",
    "job_title = driver.find_elements_by_xpath(\"//a[@class='jobLink css-1rd3saf eigr9kq2']/span\")\n",
    "\n",
    "ratings = driver.find_elements_by_xpath(\"//div[@class='d-flex flex-column css-x75kgh e1rrn5ka3']\")\n",
    "\n",
    "days = driver.find_elements_by_xpath(\"//div[@data-test='job-age']\")[:10]"
   ]
  },
  {
   "cell_type": "code",
   "execution_count": 312,
   "metadata": {},
   "outputs": [],
   "source": [
    "# appending data\n",
    "\n",
    "company_name = []\n",
    "for  i in companies[:10]:\n",
    "    if(i.text != ''):\n",
    "        company_name.append(i.text)\n",
    "    else:\n",
    "        company_name.append(np.NaN)"
   ]
  },
  {
   "cell_type": "code",
   "execution_count": 313,
   "metadata": {},
   "outputs": [
    {
     "data": {
      "text/plain": [
       "['Ginger Webs Pvt. Ltd.',\n",
       " 'Ericsson',\n",
       " 'Crowe',\n",
       " 'Adobe',\n",
       " 'Jubna',\n",
       " 'Techlive',\n",
       " 'CRMNEXT',\n",
       " 'Amploy',\n",
       " 'dunnhumby',\n",
       " 'Biz2Credit Inc']"
      ]
     },
     "execution_count": 313,
     "metadata": {},
     "output_type": "execute_result"
    }
   ],
   "source": [
    "company_name"
   ]
  },
  {
   "cell_type": "code",
   "execution_count": 263,
   "metadata": {},
   "outputs": [],
   "source": [
    "job_titles = []\n",
    "for  i in job_title[:10]:\n",
    "    if(i.text != ''):\n",
    "        job_titles.append(i.text)\n",
    "    else:\n",
    "        job_titles.append(np.NaN)"
   ]
  },
  {
   "cell_type": "code",
   "execution_count": 264,
   "metadata": {},
   "outputs": [
    {
     "data": {
      "text/plain": [
       "['Data Analyst / Data Scientist',\n",
       " 'Data Scientist',\n",
       " 'Data Scientist',\n",
       " 'Research Scientist - Computer Vision',\n",
       " 'Data Scientist',\n",
       " 'Data Scientist',\n",
       " 'Data Scientist - Computer Vision',\n",
       " 'Data Science Intern (remote)',\n",
       " 'Applied Data Scientist',\n",
       " 'Data Scientist']"
      ]
     },
     "execution_count": 264,
     "metadata": {},
     "output_type": "execute_result"
    }
   ],
   "source": [
    "job_titles"
   ]
  },
  {
   "cell_type": "code",
   "execution_count": 302,
   "metadata": {},
   "outputs": [],
   "source": [
    "rating_comp = []\n",
    "for i in ratings[:10]:\n",
    "    if(i.text==''):\n",
    "        rating_comp.append(np.NaN)\n",
    "    else:\n",
    "        rating_comp.append(i.text)\n",
    "        \n",
    "    "
   ]
  },
  {
   "cell_type": "code",
   "execution_count": 318,
   "metadata": {},
   "outputs": [],
   "source": [
    "job_days = []\n",
    "for i in days:\n",
    "    if(i.text==''):\n",
    "        job_days.append(np.NaN)\n",
    "    else:\n",
    "        job_days.append(i.text.replace('d',''))"
   ]
  },
  {
   "cell_type": "code",
   "execution_count": 319,
   "metadata": {},
   "outputs": [],
   "source": [
    "dic_glassdoor = {\n",
    "    \n",
    "    'Company_Name':company_name, 'Job_title': job_titles,\n",
    "    'Rating':rating_comp, 'NoOfDays Jobs Posted': job_days\n",
    "}"
   ]
  },
  {
   "cell_type": "code",
   "execution_count": 320,
   "metadata": {},
   "outputs": [],
   "source": [
    "glass_door_table = pd.DataFrame(dic_glassdoor)"
   ]
  },
  {
   "cell_type": "code",
   "execution_count": 321,
   "metadata": {},
   "outputs": [
    {
     "data": {
      "text/html": [
       "<div>\n",
       "<style scoped>\n",
       "    .dataframe tbody tr th:only-of-type {\n",
       "        vertical-align: middle;\n",
       "    }\n",
       "\n",
       "    .dataframe tbody tr th {\n",
       "        vertical-align: top;\n",
       "    }\n",
       "\n",
       "    .dataframe thead th {\n",
       "        text-align: right;\n",
       "    }\n",
       "</style>\n",
       "<table border=\"1\" class=\"dataframe\">\n",
       "  <thead>\n",
       "    <tr style=\"text-align: right;\">\n",
       "      <th></th>\n",
       "      <th>Company_Name</th>\n",
       "      <th>Job_title</th>\n",
       "      <th>Rating</th>\n",
       "      <th>NoOfDays Jobs Posted</th>\n",
       "    </tr>\n",
       "  </thead>\n",
       "  <tbody>\n",
       "    <tr>\n",
       "      <th>0</th>\n",
       "      <td>Ginger Webs Pvt. Ltd.</td>\n",
       "      <td>Data Analyst / Data Scientist</td>\n",
       "      <td>NaN</td>\n",
       "      <td>3</td>\n",
       "    </tr>\n",
       "    <tr>\n",
       "      <th>1</th>\n",
       "      <td>Ericsson</td>\n",
       "      <td>Data Scientist</td>\n",
       "      <td>4.1</td>\n",
       "      <td>9</td>\n",
       "    </tr>\n",
       "    <tr>\n",
       "      <th>2</th>\n",
       "      <td>Crowe</td>\n",
       "      <td>Data Scientist</td>\n",
       "      <td>3.7</td>\n",
       "      <td>11</td>\n",
       "    </tr>\n",
       "    <tr>\n",
       "      <th>3</th>\n",
       "      <td>Adobe</td>\n",
       "      <td>Research Scientist - Computer Vision</td>\n",
       "      <td>4.4</td>\n",
       "      <td>1</td>\n",
       "    </tr>\n",
       "    <tr>\n",
       "      <th>4</th>\n",
       "      <td>Jubna</td>\n",
       "      <td>Data Scientist</td>\n",
       "      <td>NaN</td>\n",
       "      <td>11</td>\n",
       "    </tr>\n",
       "    <tr>\n",
       "      <th>5</th>\n",
       "      <td>Techlive</td>\n",
       "      <td>Data Scientist</td>\n",
       "      <td>5.0</td>\n",
       "      <td>30+</td>\n",
       "    </tr>\n",
       "    <tr>\n",
       "      <th>6</th>\n",
       "      <td>CRMNEXT</td>\n",
       "      <td>Data Scientist - Computer Vision</td>\n",
       "      <td>3.7</td>\n",
       "      <td>30+</td>\n",
       "    </tr>\n",
       "    <tr>\n",
       "      <th>7</th>\n",
       "      <td>Amploy</td>\n",
       "      <td>Data Science Intern (remote)</td>\n",
       "      <td>NaN</td>\n",
       "      <td>9</td>\n",
       "    </tr>\n",
       "    <tr>\n",
       "      <th>8</th>\n",
       "      <td>dunnhumby</td>\n",
       "      <td>Applied Data Scientist</td>\n",
       "      <td>4.1</td>\n",
       "      <td>3</td>\n",
       "    </tr>\n",
       "    <tr>\n",
       "      <th>9</th>\n",
       "      <td>Biz2Credit Inc</td>\n",
       "      <td>Data Scientist</td>\n",
       "      <td>3.7</td>\n",
       "      <td>30+</td>\n",
       "    </tr>\n",
       "  </tbody>\n",
       "</table>\n",
       "</div>"
      ],
      "text/plain": [
       "            Company_Name                             Job_title Rating  \\\n",
       "0  Ginger Webs Pvt. Ltd.         Data Analyst / Data Scientist    NaN   \n",
       "1               Ericsson                        Data Scientist    4.1   \n",
       "2                  Crowe                        Data Scientist    3.7   \n",
       "3                  Adobe  Research Scientist - Computer Vision    4.4   \n",
       "4                  Jubna                        Data Scientist    NaN   \n",
       "5               Techlive                        Data Scientist    5.0   \n",
       "6                CRMNEXT      Data Scientist - Computer Vision    3.7   \n",
       "7                 Amploy          Data Science Intern (remote)    NaN   \n",
       "8              dunnhumby                Applied Data Scientist    4.1   \n",
       "9         Biz2Credit Inc                        Data Scientist    3.7   \n",
       "\n",
       "  NoOfDays Jobs Posted  \n",
       "0                    3  \n",
       "1                    9  \n",
       "2                   11  \n",
       "3                    1  \n",
       "4                   11  \n",
       "5                  30+  \n",
       "6                  30+  \n",
       "7                    9  \n",
       "8                    3  \n",
       "9                  30+  "
      ]
     },
     "execution_count": 321,
     "metadata": {},
     "output_type": "execute_result"
    }
   ],
   "source": [
    "glass_door_table"
   ]
  },
  {
   "cell_type": "markdown",
   "metadata": {},
   "source": [
    "## Q5: Write a python program to scrape the salary data for Data Scientist designation \n",
    "## in Noida location.\n",
    "    You have to scrape Company name, Number of salaries, Average salary, Min\n",
    "    salary, Max Salary.\n",
    "    The above task will be, done as shown in the below steps:\n",
    "    1. first get the webpage https://www.glassdoor.co.in/Salaries/index.htm\n",
    "    2. Enter “Data Scientist” in Job title field and “Noida” in location field.\n",
    "    3. Click the search button.\n",
    "    4. After that you will land on the below pag"
   ]
  },
  {
   "cell_type": "code",
   "execution_count": 326,
   "metadata": {},
   "outputs": [],
   "source": [
    "#proving the chrome drive with naukri url\n",
    "\n",
    "url = \" https://www.glassdoor.co.in/Salaries/index.htm/\"\n",
    "driver.get(url)\n"
   ]
  },
  {
   "cell_type": "code",
   "execution_count": 327,
   "metadata": {},
   "outputs": [
    {
     "data": {
      "text/plain": [
       "(<selenium.webdriver.remote.webelement.WebElement (session=\"49e5d3f986e69dab74dca3e2ccdd77d8\", element=\"3730769d-a04f-4361-9ec0-87ddbc3d1187\")>,\n",
       " <selenium.webdriver.remote.webelement.WebElement (session=\"49e5d3f986e69dab74dca3e2ccdd77d8\", element=\"9822478c-4717-44c1-a520-688f64014485\")>)"
      ]
     },
     "execution_count": 327,
     "metadata": {},
     "output_type": "execute_result"
    }
   ],
   "source": [
    "### Findind search bars,location search bar, and Search Button by ID and giving it to the driver\n",
    "\n",
    "search_job = driver.find_element_by_xpath(\"//input[@id='KeywordSearch']\")\n",
    "\n",
    "search_btn = driver.find_element_by_xpath(\"//button[@id='HeroSearchButton']\")\n",
    "\n",
    "search_job,search_btn\n",
    "\n",
    "\n",
    "\n"
   ]
  },
  {
   "cell_type": "code",
   "execution_count": 328,
   "metadata": {},
   "outputs": [],
   "source": [
    "# SEArch Keys and Button clicks commands\n",
    "\n",
    "search_job.send_keys(\"Data Scientist\")\n",
    "time.sleep(2)      \n",
    "search_btn.click()"
   ]
  },
  {
   "cell_type": "code",
   "execution_count": 334,
   "metadata": {},
   "outputs": [],
   "source": [
    "# Search input and search button \n",
    "\n",
    "search_loc = driver.find_element_by_xpath(\"//input[@id='sc.location']\")\n",
    "search_btn = driver.find_element_by_xpath(\"//button[@class='gd-ui-button ml-std col-auto SearchStyles__newSearchButton css-iixdfr']\")"
   ]
  },
  {
   "cell_type": "code",
   "execution_count": 335,
   "metadata": {
    "scrolled": true
   },
   "outputs": [],
   "source": [
    "search_loc.clear()"
   ]
  },
  {
   "cell_type": "code",
   "execution_count": 336,
   "metadata": {},
   "outputs": [],
   "source": [
    "# Noida search key to be given in location\n",
    "\n",
    "search_loc.send_keys('Noida')\n",
    "\n",
    "search_btn.click()"
   ]
  },
  {
   "cell_type": "code",
   "execution_count": 392,
   "metadata": {},
   "outputs": [],
   "source": [
    "#Data element retrieval\n",
    "\n",
    "company_name =  driver.find_elements_by_xpath(\"//h3[@class='m-0 css-g261rn']/a\")[:10]\n",
    "salary_num = driver.find_elements_by_xpath(\"//div[@class='col-12 col-lg-auto']/span[@class='m-0 css-1b6bxoo']\")[:10]\n",
    "avg_sal= driver.find_elements_by_xpath(\"//div[@class='col-12 col-lg-4 px-lg-0 d-flex align-items-baseline']\")[:10]\n",
    "min_max_sal = driver.find_elements_by_xpath(\"//div[@class='d-flex mt-xxsm css-79elbk epuxyqn0']\")[:10]"
   ]
  },
  {
   "cell_type": "code",
   "execution_count": 393,
   "metadata": {},
   "outputs": [],
   "source": [
    "# Data retreival from element\n",
    "\n",
    "name_companies = []\n",
    "for i in company_name:\n",
    "    if i != '':\n",
    "        name_companies.append(i.text)\n",
    "    else:\n",
    "        name_companies.append(np.NaN)"
   ]
  },
  {
   "cell_type": "code",
   "execution_count": 394,
   "metadata": {},
   "outputs": [],
   "source": [
    "# Data retreival from element\n",
    "\n",
    "num_salaries = []\n",
    "for i in salary_num:\n",
    "    if(i != ''):\n",
    "        num_salaries.append(i.text)\n",
    "    else:\n",
    "        num_salaries.append(np.NaN)"
   ]
  },
  {
   "cell_type": "code",
   "execution_count": 395,
   "metadata": {},
   "outputs": [],
   "source": [
    "# Data retreival from element\n",
    "\n",
    "average_salary = []\n",
    "for i in avg_sal:\n",
    "    try:\n",
    "        i.find_element_by_tag_name('h3')\n",
    "        average_salary.append(i.find_element_by_tag_name('h3').text.replace('₹ ',''))\n",
    "    except NoSuchElementException :\n",
    "        average_salary.append(np.NaN)\n"
   ]
  },
  {
   "cell_type": "code",
   "execution_count": 429,
   "metadata": {},
   "outputs": [],
   "source": [
    "# Data retreival from element\n",
    "\n",
    "min_salary = []\n",
    "max_salary = []\n",
    "for i in min_max_sal:\n",
    "    count = 0\n",
    "    try:\n",
    "        for j in i.find_elements_by_tag_name('p'):\n",
    "            count= count+1\n",
    "            if(count%2==0):\n",
    "                min_salary.append(j.text)\n",
    "            if(count%2==1):\n",
    "                max_salary.append(j.text)\n",
    "    except NoSuchElementException:\n",
    "        print(NoSuchElementException)\n",
    "\n",
    "    "
   ]
  },
  {
   "cell_type": "code",
   "execution_count": 448,
   "metadata": {},
   "outputs": [],
   "source": [
    "# replacing all the un necessary elements\n",
    "\n",
    "min_s = list(map(lambda x: x.replace('₹','').replace('K', '').replace(',','') ,min_salary))\n",
    "max_s = list(map(lambda x: x.replace('₹','').replace('K', '').replace(',','') ,max_salary))\n",
    "no_sal = list(map(lambda x: x.replace(' salaries','') ,num_salaries))\n",
    "avg_sal =  list(map(lambda x: x.replace(',','') ,average_salary))"
   ]
  },
  {
   "cell_type": "code",
   "execution_count": 449,
   "metadata": {},
   "outputs": [],
   "source": [
    "#Creating a dictionary for DAta\n",
    "dict_salary = {\n",
    "    'Compamny Name':name_companies,\n",
    "    'no of salary Review':no_sal,\n",
    "    'Average Salary(Per yr)':avg_sal,\n",
    "    'Min Salary (₹ in K)': min_s,\n",
    "    'Max Sslary(₹ in K )':max_s\n",
    "}"
   ]
  },
  {
   "cell_type": "code",
   "execution_count": 450,
   "metadata": {},
   "outputs": [],
   "source": [
    "# Creating Dataframe/Table of the dictionary\n",
    "salary_glassdoor_table = pd.DataFrame(dict_salary)"
   ]
  },
  {
   "cell_type": "code",
   "execution_count": 451,
   "metadata": {},
   "outputs": [
    {
     "data": {
      "text/html": [
       "<div>\n",
       "<style scoped>\n",
       "    .dataframe tbody tr th:only-of-type {\n",
       "        vertical-align: middle;\n",
       "    }\n",
       "\n",
       "    .dataframe tbody tr th {\n",
       "        vertical-align: top;\n",
       "    }\n",
       "\n",
       "    .dataframe thead th {\n",
       "        text-align: right;\n",
       "    }\n",
       "</style>\n",
       "<table border=\"1\" class=\"dataframe\">\n",
       "  <thead>\n",
       "    <tr style=\"text-align: right;\">\n",
       "      <th></th>\n",
       "      <th>Compamny Name</th>\n",
       "      <th>no of salary Review</th>\n",
       "      <th>Average Salary(Per yr)</th>\n",
       "      <th>Min Salary (₹ in K)</th>\n",
       "      <th>Max Sslary(₹ in K )</th>\n",
       "    </tr>\n",
       "  </thead>\n",
       "  <tbody>\n",
       "    <tr>\n",
       "      <th>0</th>\n",
       "      <td>Tata Consultancy Services</td>\n",
       "      <td>17</td>\n",
       "      <td>615289</td>\n",
       "      <td>1250</td>\n",
       "      <td>343</td>\n",
       "    </tr>\n",
       "    <tr>\n",
       "      <th>1</th>\n",
       "      <td>IBM</td>\n",
       "      <td>15</td>\n",
       "      <td>900000</td>\n",
       "      <td>2734</td>\n",
       "      <td>587</td>\n",
       "    </tr>\n",
       "    <tr>\n",
       "      <th>2</th>\n",
       "      <td>Accenture</td>\n",
       "      <td>14</td>\n",
       "      <td>1148366</td>\n",
       "      <td>2217</td>\n",
       "      <td>578</td>\n",
       "    </tr>\n",
       "    <tr>\n",
       "      <th>3</th>\n",
       "      <td>Ericsson-Worldwide</td>\n",
       "      <td>14</td>\n",
       "      <td>739238</td>\n",
       "      <td>1615</td>\n",
       "      <td>355</td>\n",
       "    </tr>\n",
       "    <tr>\n",
       "      <th>4</th>\n",
       "      <td>Delhivery</td>\n",
       "      <td>14</td>\n",
       "      <td>1241763</td>\n",
       "      <td>11640</td>\n",
       "      <td>451</td>\n",
       "    </tr>\n",
       "    <tr>\n",
       "      <th>5</th>\n",
       "      <td>UnitedHealth Group</td>\n",
       "      <td>11</td>\n",
       "      <td>1338279</td>\n",
       "      <td>1523</td>\n",
       "      <td>1071</td>\n",
       "    </tr>\n",
       "    <tr>\n",
       "      <th>6</th>\n",
       "      <td>Optum Global Solutions</td>\n",
       "      <td>9</td>\n",
       "      <td>1328697</td>\n",
       "      <td>2152</td>\n",
       "      <td>350</td>\n",
       "    </tr>\n",
       "    <tr>\n",
       "      <th>7</th>\n",
       "      <td>Valiance Solutions</td>\n",
       "      <td>9</td>\n",
       "      <td>816495</td>\n",
       "      <td>1467</td>\n",
       "      <td>502</td>\n",
       "    </tr>\n",
       "    <tr>\n",
       "      <th>8</th>\n",
       "      <td>ZS Associates</td>\n",
       "      <td>8</td>\n",
       "      <td>1142356</td>\n",
       "      <td>1812</td>\n",
       "      <td>202</td>\n",
       "    </tr>\n",
       "    <tr>\n",
       "      <th>9</th>\n",
       "      <td>EXL Service</td>\n",
       "      <td>8</td>\n",
       "      <td>1146073</td>\n",
       "      <td>1523</td>\n",
       "      <td>576</td>\n",
       "    </tr>\n",
       "  </tbody>\n",
       "</table>\n",
       "</div>"
      ],
      "text/plain": [
       "               Compamny Name no of salary Review Average Salary(Per yr)  \\\n",
       "0  Tata Consultancy Services                  17                 615289   \n",
       "1                        IBM                  15                 900000   \n",
       "2                  Accenture                  14                1148366   \n",
       "3         Ericsson-Worldwide                  14                 739238   \n",
       "4                  Delhivery                  14                1241763   \n",
       "5         UnitedHealth Group                  11                1338279   \n",
       "6     Optum Global Solutions                   9                1328697   \n",
       "7         Valiance Solutions                   9                 816495   \n",
       "8              ZS Associates                   8                1142356   \n",
       "9                EXL Service                   8                1146073   \n",
       "\n",
       "  Min Salary (₹ in K) Max Sslary(₹ in K )  \n",
       "0                1250                 343  \n",
       "1                2734                 587  \n",
       "2                2217                 578  \n",
       "3                1615                 355  \n",
       "4               11640                 451  \n",
       "5                1523                1071  \n",
       "6                2152                 350  \n",
       "7                1467                 502  \n",
       "8                1812                 202  \n",
       "9                1523                 576  "
      ]
     },
     "execution_count": 451,
     "metadata": {},
     "output_type": "execute_result"
    }
   ],
   "source": [
    "salary_glassdoor_table"
   ]
  },
  {
   "cell_type": "markdown",
   "metadata": {},
   "source": [
    "\n",
    "## Q6 : Scrape data of first 100 sunglasses listings on flipkart.com. You have toscrape four attributes:\n",
    "    1. Brand\n",
    "    2. Product Description\n",
    "    3. Price\n",
    "    4. Discount %\n",
    "    The attributes which you have to scrape is ticked marked in the below image.\n",
    "    To scrape the data you have to go through following steps:\n",
    "    \n",
    "    \n",
    "    1. Go to flipkart webpage by url https://www.flipkart.com/\n",
    "    2. Enter “sunglasses” in the search field where “search for products, brands and \n",
    "    more” is written and click the search icon\n",
    "    3. after that you will reach to a webpage having a lot of sunglasses. From this page \n",
    "    you can scrap the required data as usual.\n",
    "    4. after scraping data from the first page, go to the “Next” Button at the bottom of \n",
    "    the page , then click on i\n"
   ]
  },
  {
   "cell_type": "code",
   "execution_count": 72,
   "metadata": {},
   "outputs": [],
   "source": [
    "#proving the chrome drive with naukri url\n",
    "\n",
    "url = \"https://www.flipkart.com/\"\n",
    "driver.get(url)\n",
    "\n"
   ]
  },
  {
   "cell_type": "code",
   "execution_count": 73,
   "metadata": {},
   "outputs": [],
   "source": [
    "# Getting the SEarch Input and search button parameter\n",
    "\n",
    "search_text = driver.find_element_by_xpath(\"//div[@class='_3OO5Xc']/input\")\n",
    "button_icon = driver.find_element_by_xpath(\"//button[@class='L0Z3Pu']\")"
   ]
  },
  {
   "cell_type": "code",
   "execution_count": 74,
   "metadata": {},
   "outputs": [],
   "source": [
    "# Giving Search keys to the search input and clicking the bUtton\n",
    "\n",
    "search_text.send_keys('sunglasses')\n",
    "button_icon.click()"
   ]
  },
  {
   "cell_type": "code",
   "execution_count": 83,
   "metadata": {},
   "outputs": [],
   "source": [
    "#Getting elements of all the products, prices, discount\n",
    "\n",
    "products = driver.find_elements_by_xpath(\"//div[@class='_2B099V']/a\")\n",
    "price = driver.find_elements_by_xpath(\"//div[@class='_30jeq3']\")\n",
    "discount = driver.find_elements_by_xpath(\"//div[@class='_3Ay6Sb']/span\")"
   ]
  },
  {
   "cell_type": "code",
   "execution_count": 76,
   "metadata": {},
   "outputs": [
    {
     "data": {
      "text/plain": [
       "'₹541₹79932% off\\nOr Pay ₹513 + \\n 28'"
      ]
     },
     "execution_count": 76,
     "metadata": {},
     "output_type": "execute_result"
    }
   ],
   "source": [
    "products[7].text"
   ]
  },
  {
   "cell_type": "code",
   "execution_count": 77,
   "metadata": {},
   "outputs": [],
   "source": [
    "# All the links of each search Pages.\n",
    "\n",
    "links = driver.find_elements_by_xpath(\"//nav[@class='yFHi8N']/a\")"
   ]
  },
  {
   "cell_type": "code",
   "execution_count": 78,
   "metadata": {},
   "outputs": [],
   "source": [
    "# Links for all the search result pages \n",
    "\n",
    "urls = []\n",
    "for i in links:\n",
    "    urls.append(i.get_attribute('href'))"
   ]
  },
  {
   "cell_type": "code",
   "execution_count": 105,
   "metadata": {},
   "outputs": [],
   "source": [
    "# Appending all the data \n",
    "counter = 0\n",
    "counter_p = 0\n",
    "c_d = 0\n",
    "c_product = 0\n",
    "brand_list = []\n",
    "price_list = []\n",
    "discount_list = []\n",
    "product_list = []\n",
    "for i in urls[:3]:\n",
    "    driver.get(i)\n",
    "    brands = driver.find_elements_by_xpath(\"//div[@class='_2WkVRV']\")\n",
    "    \n",
    "    products = driver.find_elements_by_xpath(\"//div[@class='_2B099V']/a\")\n",
    "    price = driver.find_elements_by_xpath(\"//div[@class='_30jeq3']\")\n",
    "    discount = driver.find_elements_by_xpath(\"//div[@class='_3Ay6Sb']/span\")\n",
    "    \n",
    "    for j in brands:\n",
    "        if(counter< 100):\n",
    "            brand_list.append(j.text)\n",
    "            \n",
    "            counter = counter +1\n",
    "    for k in price:\n",
    "        if(counter_p<100):\n",
    "            price_list.append(k.text.replace('₹',''))\n",
    "            counter_p=counter_p+1\n",
    "    \n",
    "    for k in discount:\n",
    "        if(c_d<100):\n",
    "            discount_list.append(k.text.replace(' off',''))\n",
    "            c_d=c_d+1\n",
    "            \n",
    "    for k in range(0,len(products),2):\n",
    "        if(c_product<100):\n",
    "            product_list.append(products[k].text)\n",
    "            c_product=c_product+1\n",
    "\n",
    "\n",
    "    \n",
    "    \n",
    "    "
   ]
  },
  {
   "cell_type": "code",
   "execution_count": 113,
   "metadata": {},
   "outputs": [],
   "source": [
    "#Dictionary creation for Dataframe/ Table\n",
    "sunglass_dict = {\n",
    "    'Product_Brand': brand_list,\n",
    "    'Product_Name': product_list,\n",
    "    'Product_Price':price_list,\n",
    "    'Product_Discount': discount_list\n",
    "}"
   ]
  },
  {
   "cell_type": "code",
   "execution_count": 114,
   "metadata": {},
   "outputs": [],
   "source": [
    "import pandas"
   ]
  },
  {
   "cell_type": "code",
   "execution_count": 115,
   "metadata": {},
   "outputs": [],
   "source": [
    "sunglass_table = pandas.DataFrame(sunglass_dict)"
   ]
  },
  {
   "cell_type": "code",
   "execution_count": 116,
   "metadata": {},
   "outputs": [
    {
     "data": {
      "text/html": [
       "<div>\n",
       "<style scoped>\n",
       "    .dataframe tbody tr th:only-of-type {\n",
       "        vertical-align: middle;\n",
       "    }\n",
       "\n",
       "    .dataframe tbody tr th {\n",
       "        vertical-align: top;\n",
       "    }\n",
       "\n",
       "    .dataframe thead th {\n",
       "        text-align: right;\n",
       "    }\n",
       "</style>\n",
       "<table border=\"1\" class=\"dataframe\">\n",
       "  <thead>\n",
       "    <tr style=\"text-align: right;\">\n",
       "      <th></th>\n",
       "      <th>Product_Brand</th>\n",
       "      <th>Product_Name</th>\n",
       "      <th>Product_Price</th>\n",
       "      <th>Product_Discount</th>\n",
       "    </tr>\n",
       "  </thead>\n",
       "  <tbody>\n",
       "    <tr>\n",
       "      <th>0</th>\n",
       "      <td>PIRASO</td>\n",
       "      <td>UV Protection Aviator Sunglasses (54)</td>\n",
       "      <td>237</td>\n",
       "      <td>85%</td>\n",
       "    </tr>\n",
       "    <tr>\n",
       "      <th>1</th>\n",
       "      <td>PIRASO</td>\n",
       "      <td>UV Protection Aviator Sunglasses (54)</td>\n",
       "      <td>237</td>\n",
       "      <td>85%</td>\n",
       "    </tr>\n",
       "    <tr>\n",
       "      <th>2</th>\n",
       "      <td>ROYAL SON</td>\n",
       "      <td>UV Protection, Gradient Wayfarer Sunglasses (55)</td>\n",
       "      <td>217</td>\n",
       "      <td>78%</td>\n",
       "    </tr>\n",
       "    <tr>\n",
       "      <th>3</th>\n",
       "      <td>PIRASO</td>\n",
       "      <td>UV Protection Aviator Sunglasses (58)</td>\n",
       "      <td>331</td>\n",
       "      <td>87%</td>\n",
       "    </tr>\n",
       "    <tr>\n",
       "      <th>4</th>\n",
       "      <td>DEIXELS</td>\n",
       "      <td>UV Protection Aviator, Wayfarer Sunglasses (Fr...</td>\n",
       "      <td>213</td>\n",
       "      <td>82%</td>\n",
       "    </tr>\n",
       "    <tr>\n",
       "      <th>...</th>\n",
       "      <td>...</td>\n",
       "      <td>...</td>\n",
       "      <td>...</td>\n",
       "      <td>...</td>\n",
       "    </tr>\n",
       "    <tr>\n",
       "      <th>95</th>\n",
       "      <td>Fastrack</td>\n",
       "      <td>Polarized Retro Square Sunglasses (Free Size)</td>\n",
       "      <td>668</td>\n",
       "      <td>16%</td>\n",
       "    </tr>\n",
       "    <tr>\n",
       "      <th>96</th>\n",
       "      <td>Poloport</td>\n",
       "      <td>UV Protection Wayfarer Sunglasses (Free Size)</td>\n",
       "      <td>323</td>\n",
       "      <td>82%</td>\n",
       "    </tr>\n",
       "    <tr>\n",
       "      <th>97</th>\n",
       "      <td>AISLIN</td>\n",
       "      <td>Toughened Glass Lens, UV Protection Aviator Su...</td>\n",
       "      <td>756</td>\n",
       "      <td>79%</td>\n",
       "    </tr>\n",
       "    <tr>\n",
       "      <th>98</th>\n",
       "      <td>NuVew</td>\n",
       "      <td>UV Protection Cat-eye Sunglasses (60)</td>\n",
       "      <td>356</td>\n",
       "      <td>75%</td>\n",
       "    </tr>\n",
       "    <tr>\n",
       "      <th>99</th>\n",
       "      <td>NuVew</td>\n",
       "      <td>UV Protection, Night Vision, Riding Glasses Sp...</td>\n",
       "      <td>188</td>\n",
       "      <td>80%</td>\n",
       "    </tr>\n",
       "  </tbody>\n",
       "</table>\n",
       "<p>100 rows × 4 columns</p>\n",
       "</div>"
      ],
      "text/plain": [
       "   Product_Brand                                       Product_Name  \\\n",
       "0         PIRASO              UV Protection Aviator Sunglasses (54)   \n",
       "1         PIRASO              UV Protection Aviator Sunglasses (54)   \n",
       "2      ROYAL SON   UV Protection, Gradient Wayfarer Sunglasses (55)   \n",
       "3         PIRASO              UV Protection Aviator Sunglasses (58)   \n",
       "4        DEIXELS  UV Protection Aviator, Wayfarer Sunglasses (Fr...   \n",
       "..           ...                                                ...   \n",
       "95      Fastrack      Polarized Retro Square Sunglasses (Free Size)   \n",
       "96      Poloport      UV Protection Wayfarer Sunglasses (Free Size)   \n",
       "97        AISLIN  Toughened Glass Lens, UV Protection Aviator Su...   \n",
       "98         NuVew              UV Protection Cat-eye Sunglasses (60)   \n",
       "99         NuVew  UV Protection, Night Vision, Riding Glasses Sp...   \n",
       "\n",
       "   Product_Price Product_Discount  \n",
       "0            237              85%  \n",
       "1            237              85%  \n",
       "2            217              78%  \n",
       "3            331              87%  \n",
       "4            213              82%  \n",
       "..           ...              ...  \n",
       "95           668              16%  \n",
       "96           323              82%  \n",
       "97           756              79%  \n",
       "98           356              75%  \n",
       "99           188              80%  \n",
       "\n",
       "[100 rows x 4 columns]"
      ]
     },
     "execution_count": 116,
     "metadata": {},
     "output_type": "execute_result"
    }
   ],
   "source": [
    "sunglass_table"
   ]
  },
  {
   "cell_type": "markdown",
   "metadata": {},
   "source": [
    "## Q7: Scrape 100 reviews data from flipkart.com for iphone11 phone. You have to \n",
    "    go the link:\n",
    "    https://www.flipkart.com/apple-iphone-11-black-64-gb-includes\u0002earpods-power\u0002adapter/p/itm0f37c2240b217?pid=MOBFKCTSVZAXUHGR&lid=LSTMOBFKCTSVZAXUHGREPBFGI&marketplace.\n",
    "\n",
    "As shown in the above page you have to scrape the tick marked attributes.\n",
    "These are \n",
    "1. Rating \n",
    "2. Review_summary \n",
    "3. Full review\n",
    "You have to scrape this data for first 100 review"
   ]
  },
  {
   "cell_type": "code",
   "execution_count": 202,
   "metadata": {},
   "outputs": [],
   "source": [
    "\n",
    "# Giving the driver the web page link\n",
    "driver.get('https://www.flipkart.com/apple-iphone-11-black-64-gb-includes-earpods-power-adapter/p/itm0f37c2240b217?pid=MOBFKCTSVZAXUHGR&lid=LSTMOBFKCTSVZAXUHGREPBFGI&marketplace')"
   ]
  },
  {
   "cell_type": "code",
   "execution_count": null,
   "metadata": {},
   "outputs": [],
   "source": []
  },
  {
   "cell_type": "code",
   "execution_count": 203,
   "metadata": {},
   "outputs": [],
   "source": [
    "#Clciking on All review Results\n",
    "driver.find_element_by_xpath(\"//div[@class='_3UAT2v _16PBlm']/span\").click()"
   ]
  },
  {
   "cell_type": "code",
   "execution_count": 204,
   "metadata": {},
   "outputs": [],
   "source": [
    "links = driver.find_elements_by_xpath(\"//nav[@class='yFHi8N']/a\")"
   ]
  },
  {
   "cell_type": "code",
   "execution_count": 205,
   "metadata": {},
   "outputs": [],
   "source": [
    "#Storing all the search result ages of reviews\n",
    "urls = []\n",
    "for i in links:\n",
    "    urls.append(i.get_attribute('href'))"
   ]
  },
  {
   "cell_type": "code",
   "execution_count": 235,
   "metadata": {},
   "outputs": [],
   "source": [
    "### Appending the Data from all the search pages (first 100 results)\n",
    "\n",
    "c_rate = 0\n",
    "d = 0\n",
    "rating_l =[]\n",
    "header_l = []\n",
    "desc_l = []\n",
    "for i  in urls[:10]:\n",
    "    driver.get(i)\n",
    "    block = driver.find_elements_by_xpath(\"//div[@class='col _2wzgFH K0kLPL']\") \n",
    "    for j in block:\n",
    "        if(c_rate <100):\n",
    "            a = (j.text.split('\\n')[0])\n",
    "            rating_l.append(a)\n",
    "            \n",
    "            header_l.append(j.text.split('\\n')[1])\n",
    "            c_rate= c_rate+1\n",
    "   \n",
    "    desc = driver.find_elements_by_xpath(\"//div[@class='t-ZTKy']/div\")\n",
    "  \n",
    "\n",
    "    for k in desc:\n",
    "        if(d<100):\n",
    "            desc_l.append(k.text)\n",
    "            d=d+1\n",
    "\n",
    "            \n",
    "\n",
    "    \n",
    "        \n",
    "   "
   ]
  },
  {
   "cell_type": "code",
   "execution_count": 241,
   "metadata": {},
   "outputs": [],
   "source": [
    "dict = {\n",
    "    'Rating': rating_l,\n",
    "    'Headind_Review': header_l, 'Review': desc_l\n",
    "}"
   ]
  },
  {
   "cell_type": "code",
   "execution_count": 242,
   "metadata": {},
   "outputs": [],
   "source": [
    "review_table  = pd.DataFrame(dict)"
   ]
  },
  {
   "cell_type": "code",
   "execution_count": 243,
   "metadata": {},
   "outputs": [
    {
     "data": {
      "text/html": [
       "<div>\n",
       "<style scoped>\n",
       "    .dataframe tbody tr th:only-of-type {\n",
       "        vertical-align: middle;\n",
       "    }\n",
       "\n",
       "    .dataframe tbody tr th {\n",
       "        vertical-align: top;\n",
       "    }\n",
       "\n",
       "    .dataframe thead th {\n",
       "        text-align: right;\n",
       "    }\n",
       "</style>\n",
       "<table border=\"1\" class=\"dataframe\">\n",
       "  <thead>\n",
       "    <tr style=\"text-align: right;\">\n",
       "      <th></th>\n",
       "      <th>Rating</th>\n",
       "      <th>Headind_Review</th>\n",
       "      <th>Review</th>\n",
       "    </tr>\n",
       "  </thead>\n",
       "  <tbody>\n",
       "    <tr>\n",
       "      <th>0</th>\n",
       "      <td>5</td>\n",
       "      <td>Brilliant</td>\n",
       "      <td>The Best Phone for the Money\\n\\nThe iPhone 11 ...</td>\n",
       "    </tr>\n",
       "    <tr>\n",
       "      <th>1</th>\n",
       "      <td>5</td>\n",
       "      <td>Perfect product!</td>\n",
       "      <td>Amazing phone with great cameras and better ba...</td>\n",
       "    </tr>\n",
       "    <tr>\n",
       "      <th>2</th>\n",
       "      <td>5</td>\n",
       "      <td>Great product</td>\n",
       "      <td>Amazing Powerful and Durable Gadget.\\n\\nI’m am...</td>\n",
       "    </tr>\n",
       "    <tr>\n",
       "      <th>3</th>\n",
       "      <td>5</td>\n",
       "      <td>Worth every penny</td>\n",
       "      <td>Previously I was using one plus 3t it was a gr...</td>\n",
       "    </tr>\n",
       "    <tr>\n",
       "      <th>4</th>\n",
       "      <td>5</td>\n",
       "      <td>Fabulous!</td>\n",
       "      <td>This is my first iOS phone. I am very happy wi...</td>\n",
       "    </tr>\n",
       "    <tr>\n",
       "      <th>...</th>\n",
       "      <td>...</td>\n",
       "      <td>...</td>\n",
       "      <td>...</td>\n",
       "    </tr>\n",
       "    <tr>\n",
       "      <th>95</th>\n",
       "      <td>5</td>\n",
       "      <td>Mind-blowing purchase</td>\n",
       "      <td>i was confused between 11 and 11 pro. i was go...</td>\n",
       "    </tr>\n",
       "    <tr>\n",
       "      <th>96</th>\n",
       "      <td>5</td>\n",
       "      <td>Fabulous!</td>\n",
       "      <td>Product is nice at the deviled time the delive...</td>\n",
       "    </tr>\n",
       "    <tr>\n",
       "      <th>97</th>\n",
       "      <td>3</td>\n",
       "      <td>Does the job</td>\n",
       "      <td>phone is good but in display is 720p lcd in th...</td>\n",
       "    </tr>\n",
       "    <tr>\n",
       "      <th>98</th>\n",
       "      <td>5</td>\n",
       "      <td>Fabulous!</td>\n",
       "      <td>Everything is perfect pictures come out so cle...</td>\n",
       "    </tr>\n",
       "    <tr>\n",
       "      <th>99</th>\n",
       "      <td>5</td>\n",
       "      <td>Awesome</td>\n",
       "      <td>I dreamt about this day from a long time.... G...</td>\n",
       "    </tr>\n",
       "  </tbody>\n",
       "</table>\n",
       "<p>100 rows × 3 columns</p>\n",
       "</div>"
      ],
      "text/plain": [
       "   Rating         Headind_Review  \\\n",
       "0       5              Brilliant   \n",
       "1       5       Perfect product!   \n",
       "2       5          Great product   \n",
       "3       5      Worth every penny   \n",
       "4       5              Fabulous!   \n",
       "..    ...                    ...   \n",
       "95      5  Mind-blowing purchase   \n",
       "96      5              Fabulous!   \n",
       "97      3           Does the job   \n",
       "98      5              Fabulous!   \n",
       "99      5                Awesome   \n",
       "\n",
       "                                               Review  \n",
       "0   The Best Phone for the Money\\n\\nThe iPhone 11 ...  \n",
       "1   Amazing phone with great cameras and better ba...  \n",
       "2   Amazing Powerful and Durable Gadget.\\n\\nI’m am...  \n",
       "3   Previously I was using one plus 3t it was a gr...  \n",
       "4   This is my first iOS phone. I am very happy wi...  \n",
       "..                                                ...  \n",
       "95  i was confused between 11 and 11 pro. i was go...  \n",
       "96  Product is nice at the deviled time the delive...  \n",
       "97  phone is good but in display is 720p lcd in th...  \n",
       "98  Everything is perfect pictures come out so cle...  \n",
       "99  I dreamt about this day from a long time.... G...  \n",
       "\n",
       "[100 rows x 3 columns]"
      ]
     },
     "execution_count": 243,
     "metadata": {},
     "output_type": "execute_result"
    }
   ],
   "source": [
    "review_table"
   ]
  },
  {
   "cell_type": "markdown",
   "metadata": {},
   "source": [
    "### Q8: Scrape data for first 100 sneakers you find when you visit flipkart.com andsearch for “sneakers” in the search field. You have to scrape 4 attributes of each sneaker :\n",
    "    1. Brand\n",
    "    2. Product Description\n",
    "    3. Price\n",
    "    4. discount %\n",
    "    As shown in the below image, you have to scrape the tick marked attributes"
   ]
  },
  {
   "cell_type": "code",
   "execution_count": 245,
   "metadata": {},
   "outputs": [],
   "source": [
    "\n",
    "# Giving the driver the web page link\n",
    "driver.get('https://www.flipkart.com/')"
   ]
  },
  {
   "cell_type": "code",
   "execution_count": 246,
   "metadata": {},
   "outputs": [],
   "source": [
    "# Getting the SEarch Input and search button parameter\n",
    "\n",
    "search_text = driver.find_element_by_xpath(\"//div[@class='_3OO5Xc']/input\")\n",
    "button_icon = driver.find_element_by_xpath(\"//button[@class='L0Z3Pu']\")\n",
    "\n",
    "# Giving Search keys to the search input and clicking the bUtton\n",
    "\n",
    "search_text.send_keys('sneakers')\n",
    "button_icon.click()"
   ]
  },
  {
   "cell_type": "code",
   "execution_count": 247,
   "metadata": {},
   "outputs": [],
   "source": [
    "# All the links of each search Pages.\n",
    "\n",
    "links = driver.find_elements_by_xpath(\"//nav[@class='yFHi8N']/a\")\n",
    "\n"
   ]
  },
  {
   "cell_type": "code",
   "execution_count": 248,
   "metadata": {},
   "outputs": [],
   "source": [
    "# Links for all the search result pages \n",
    "\n",
    "urls = []\n",
    "for i in links:\n",
    "    urls.append(i.get_attribute('href'))\n"
   ]
  },
  {
   "cell_type": "code",
   "execution_count": 249,
   "metadata": {},
   "outputs": [],
   "source": [
    "\n",
    "# Appending all the data \n",
    "counter = 0\n",
    "counter_p = 0\n",
    "c_d = 0\n",
    "c_product = 0\n",
    "brand_list = []\n",
    "price_list = []\n",
    "discount_list = []\n",
    "product_list = []\n",
    "for i in urls[:3]:\n",
    "    driver.get(i)\n",
    "    brands = driver.find_elements_by_xpath(\"//div[@class='_2WkVRV']\")\n",
    "    \n",
    "    products = driver.find_elements_by_xpath(\"//div[@class='_2B099V']/a\")\n",
    "    price = driver.find_elements_by_xpath(\"//div[@class='_30jeq3']\")\n",
    "    discount = driver.find_elements_by_xpath(\"//div[@class='_3Ay6Sb']/span\")\n",
    "    \n",
    "    for j in brands:\n",
    "        if(counter< 100):\n",
    "            brand_list.append(j.text)\n",
    "            \n",
    "            counter = counter +1\n",
    "    for k in price:\n",
    "        if(counter_p<100):\n",
    "            price_list.append(k.text.replace('₹',''))\n",
    "            counter_p=counter_p+1\n",
    "    \n",
    "    for k in discount:\n",
    "        if(c_d<100):\n",
    "            discount_list.append(k.text.replace(' off',''))\n",
    "            c_d=c_d+1\n",
    "            \n",
    "    for k in range(0,len(products),2):\n",
    "        if(c_product<100):\n",
    "            product_list.append(products[k].text)\n",
    "            c_product=c_product+1\n",
    "\n",
    "\n"
   ]
  },
  {
   "cell_type": "code",
   "execution_count": 253,
   "metadata": {},
   "outputs": [
    {
     "data": {
      "text/html": [
       "<div>\n",
       "<style scoped>\n",
       "    .dataframe tbody tr th:only-of-type {\n",
       "        vertical-align: middle;\n",
       "    }\n",
       "\n",
       "    .dataframe tbody tr th {\n",
       "        vertical-align: top;\n",
       "    }\n",
       "\n",
       "    .dataframe thead th {\n",
       "        text-align: right;\n",
       "    }\n",
       "</style>\n",
       "<table border=\"1\" class=\"dataframe\">\n",
       "  <thead>\n",
       "    <tr style=\"text-align: right;\">\n",
       "      <th></th>\n",
       "      <th>Product_Brand</th>\n",
       "      <th>Product_Name</th>\n",
       "      <th>Product_Price</th>\n",
       "      <th>Product_Discount</th>\n",
       "    </tr>\n",
       "  </thead>\n",
       "  <tbody>\n",
       "    <tr>\n",
       "      <th>0</th>\n",
       "      <td>Birde</td>\n",
       "      <td>Sneakers For Men</td>\n",
       "      <td>252</td>\n",
       "      <td>49%</td>\n",
       "    </tr>\n",
       "    <tr>\n",
       "      <th>1</th>\n",
       "      <td>BRUTON</td>\n",
       "      <td>Combo Pack Of 4 Casual Shoes Loafer Shoes Snea...</td>\n",
       "      <td>424</td>\n",
       "      <td>87%</td>\n",
       "    </tr>\n",
       "    <tr>\n",
       "      <th>2</th>\n",
       "      <td>PEHANOSA</td>\n",
       "      <td>Sneakers For Men</td>\n",
       "      <td>499</td>\n",
       "      <td>50%</td>\n",
       "    </tr>\n",
       "    <tr>\n",
       "      <th>3</th>\n",
       "      <td>India hub</td>\n",
       "      <td>Fashionable casual sneakers shoes Sneakers For...</td>\n",
       "      <td>389</td>\n",
       "      <td>87%</td>\n",
       "    </tr>\n",
       "    <tr>\n",
       "      <th>4</th>\n",
       "      <td>ORICUM</td>\n",
       "      <td>Combo pack of 2 casual sneaker shoes for men S...</td>\n",
       "      <td>377</td>\n",
       "      <td>62%</td>\n",
       "    </tr>\n",
       "    <tr>\n",
       "      <th>...</th>\n",
       "      <td>...</td>\n",
       "      <td>...</td>\n",
       "      <td>...</td>\n",
       "      <td>...</td>\n",
       "    </tr>\n",
       "    <tr>\n",
       "      <th>95</th>\n",
       "      <td>Birde</td>\n",
       "      <td>Casual Shoes Sneakers For Men</td>\n",
       "      <td>319</td>\n",
       "      <td>87%</td>\n",
       "    </tr>\n",
       "    <tr>\n",
       "      <th>96</th>\n",
       "      <td>BRUTON</td>\n",
       "      <td>Men Combo Pack of 2 Casual &amp; Sneaker Shoes (Lo...</td>\n",
       "      <td>299</td>\n",
       "      <td>61%</td>\n",
       "    </tr>\n",
       "    <tr>\n",
       "      <th>97</th>\n",
       "      <td>PUMA</td>\n",
       "      <td>Acrux IDP Sneakers For Men</td>\n",
       "      <td>1,282</td>\n",
       "      <td>57%</td>\n",
       "    </tr>\n",
       "    <tr>\n",
       "      <th>98</th>\n",
       "      <td>T-ROCK</td>\n",
       "      <td>Synthetic Leather Casual Sneakers Shoes For Me...</td>\n",
       "      <td>424</td>\n",
       "      <td>68%</td>\n",
       "    </tr>\n",
       "    <tr>\n",
       "      <th>99</th>\n",
       "      <td>Nilatin</td>\n",
       "      <td>White Sneaker for Men Sneakers For Men</td>\n",
       "      <td>407</td>\n",
       "      <td>32%</td>\n",
       "    </tr>\n",
       "  </tbody>\n",
       "</table>\n",
       "<p>100 rows × 4 columns</p>\n",
       "</div>"
      ],
      "text/plain": [
       "   Product_Brand                                       Product_Name  \\\n",
       "0          Birde                                   Sneakers For Men   \n",
       "1         BRUTON  Combo Pack Of 4 Casual Shoes Loafer Shoes Snea...   \n",
       "2       PEHANOSA                                   Sneakers For Men   \n",
       "3      India hub  Fashionable casual sneakers shoes Sneakers For...   \n",
       "4         ORICUM  Combo pack of 2 casual sneaker shoes for men S...   \n",
       "..           ...                                                ...   \n",
       "95         Birde                      Casual Shoes Sneakers For Men   \n",
       "96        BRUTON  Men Combo Pack of 2 Casual & Sneaker Shoes (Lo...   \n",
       "97          PUMA                         Acrux IDP Sneakers For Men   \n",
       "98        T-ROCK  Synthetic Leather Casual Sneakers Shoes For Me...   \n",
       "99       Nilatin             White Sneaker for Men Sneakers For Men   \n",
       "\n",
       "   Product_Price Product_Discount  \n",
       "0            252              49%  \n",
       "1            424              87%  \n",
       "2            499              50%  \n",
       "3            389              87%  \n",
       "4            377              62%  \n",
       "..           ...              ...  \n",
       "95           319              87%  \n",
       "96           299              61%  \n",
       "97         1,282              57%  \n",
       "98           424              68%  \n",
       "99           407              32%  \n",
       "\n",
       "[100 rows x 4 columns]"
      ]
     },
     "execution_count": 253,
     "metadata": {},
     "output_type": "execute_result"
    }
   ],
   "source": [
    "\n",
    "#Dictionary creation for Dataframe/ Table\n",
    "sunglass_dict = {\n",
    "    'Product_Brand': brand_list,\n",
    "    'Product_Name': product_list,\n",
    "    'Product_Price':price_list,\n",
    "    'Product_Discount': discount_list\n",
    "}\n",
    "\n",
    "\n",
    "\n",
    "sneaker_table = pandas.DataFrame(sunglass_dict)\n",
    "\n",
    "sneaker_table"
   ]
  },
  {
   "cell_type": "markdown",
   "metadata": {},
   "source": [
    "## Q9: Go to the link - https://www.myntra.com/shoes\n",
    "  ####  Set Price filter to “Rs. 6649 to Rs. 13099” , Color filter to “Black”"
   ]
  },
  {
   "cell_type": "code",
   "execution_count": 333,
   "metadata": {},
   "outputs": [],
   "source": [
    "\n",
    "# Giving the driver the web page link\n",
    "driver.get(' https://www.myntra.com/shoes')"
   ]
  },
  {
   "cell_type": "code",
   "execution_count": 336,
   "metadata": {},
   "outputs": [],
   "source": [
    "\n",
    "## clicking the black shoes filter option\n",
    "driver.find_element_by_xpath(\"//span[@data-colorhex='black']\").click()"
   ]
  },
  {
   "cell_type": "code",
   "execution_count": 337,
   "metadata": {},
   "outputs": [],
   "source": [
    "## clicking the Price Filter 6649-13099\n",
    "driver.find_element_by_xpath(\"//span[text()='603']\").click()"
   ]
  },
  {
   "cell_type": "code",
   "execution_count": 360,
   "metadata": {},
   "outputs": [],
   "source": [
    "# Links of all the first 10 page search results\n",
    "link1 = driver.find_element_by_xpath(\"//li[@class='pagination-active']/a\")\n",
    "links = driver.find_elements_by_xpath(\"//li[@class='pagination-number']/a\")\n"
   ]
  },
  {
   "cell_type": "code",
   "execution_count": 363,
   "metadata": {},
   "outputs": [],
   "source": [
    "# Appending all the links of the page resuls in URLS\n",
    "urls = []\n",
    "urls.append(link1.get_attribute('href'))\n",
    "for i in links:\n",
    "    urls.append(i.get_attribute('href'))"
   ]
  },
  {
   "cell_type": "code",
   "execution_count": 375,
   "metadata": {},
   "outputs": [],
   "source": [
    "# Extraction of first 100 data points \n",
    "c = 0\n",
    "pd= 0 \n",
    "pr = 0\n",
    "brand_li = []\n",
    "product_li = []\n",
    "price_li = []\n",
    "for i in urls[:3]:\n",
    "    try:\n",
    "        driver.get(i)\n",
    "        brand = driver.find_elements_by_xpath(\"//h3[@class='product-brand']\")\n",
    "        product = driver.find_elements_by_xpath(\"//h4[@class='product-product']\")\n",
    "        price = driver.find_elements_by_xpath(\"//div[@class='product-price']\")\n",
    "\n",
    "        for j in brand:\n",
    "            if((c<100) & (j.text!= '')):\n",
    "                brand_li.append(j.text)\n",
    "                c=c+1\n",
    "\n",
    "            if j.text== '':\n",
    "                brand_li.append(np.NaN)\n",
    "\n",
    "            if c>=100:\n",
    "                break;\n",
    "\n",
    "\n",
    "        for j in product:\n",
    "            if((pd<100) & (j.text!= '')):\n",
    "                product_li.append(j.text)\n",
    "                pd=pd+1\n",
    "\n",
    "            if j.text== '':\n",
    "                product_li.append(np.NaN)\n",
    "\n",
    "            if pd>=100:\n",
    "                break;\n",
    "\n",
    "\n",
    "        for j in price:\n",
    "            if((pr<100) & (j.text!= '')):\n",
    "                price_li.append(j.text)\n",
    "                pr=pr+1\n",
    "\n",
    "            if j.text== '':\n",
    "                price_li.append(np.NaN)\n",
    "\n",
    "            if pr>=100:\n",
    "                break;\n",
    "    except NoSuchElementException:\n",
    "        print(NoSuchElementException)\n",
    "          \n",
    "        \n",
    "\n",
    "    "
   ]
  },
  {
   "cell_type": "code",
   "execution_count": 380,
   "metadata": {},
   "outputs": [],
   "source": [
    "# Price has both Nuy prices and Orignal price, need to scrapping the current price\n",
    "price_1 = list(map(lambda x: x.replace('Rs.',''), price_li))"
   ]
  },
  {
   "cell_type": "code",
   "execution_count": 384,
   "metadata": {},
   "outputs": [],
   "source": [
    "price_modified = []\n",
    "for i in price_1:\n",
    "    li = []\n",
    "    li = i.split(' ')\n",
    "    price_modified.append(li[1])"
   ]
  },
  {
   "cell_type": "code",
   "execution_count": 388,
   "metadata": {},
   "outputs": [
    {
     "data": {
      "text/html": [
       "<div>\n",
       "<style scoped>\n",
       "    .dataframe tbody tr th:only-of-type {\n",
       "        vertical-align: middle;\n",
       "    }\n",
       "\n",
       "    .dataframe tbody tr th {\n",
       "        vertical-align: top;\n",
       "    }\n",
       "\n",
       "    .dataframe thead th {\n",
       "        text-align: right;\n",
       "    }\n",
       "</style>\n",
       "<table border=\"1\" class=\"dataframe\">\n",
       "  <thead>\n",
       "    <tr style=\"text-align: right;\">\n",
       "      <th></th>\n",
       "      <th>Product_Brand</th>\n",
       "      <th>Product_Name</th>\n",
       "      <th>Product_Price in Rs</th>\n",
       "    </tr>\n",
       "  </thead>\n",
       "  <tbody>\n",
       "    <tr>\n",
       "      <th>0</th>\n",
       "      <td>ASICS</td>\n",
       "      <td>Men Black Sports Shoes</td>\n",
       "      <td>9999</td>\n",
       "    </tr>\n",
       "    <tr>\n",
       "      <th>1</th>\n",
       "      <td>Nike</td>\n",
       "      <td>Men REACT MILER Running Shoes</td>\n",
       "      <td>8246</td>\n",
       "    </tr>\n",
       "    <tr>\n",
       "      <th>2</th>\n",
       "      <td>Nike</td>\n",
       "      <td>Unisex LEBRON XVIII Basketball</td>\n",
       "      <td>12316</td>\n",
       "    </tr>\n",
       "    <tr>\n",
       "      <th>3</th>\n",
       "      <td>Nike</td>\n",
       "      <td>Unisex COSMIC UNITY Basketball</td>\n",
       "      <td>11470</td>\n",
       "    </tr>\n",
       "    <tr>\n",
       "      <th>4</th>\n",
       "      <td>Nike</td>\n",
       "      <td>Men ZOOM FREAK 2 Basketball</td>\n",
       "      <td>7721</td>\n",
       "    </tr>\n",
       "    <tr>\n",
       "      <th>...</th>\n",
       "      <td>...</td>\n",
       "      <td>...</td>\n",
       "      <td>...</td>\n",
       "    </tr>\n",
       "    <tr>\n",
       "      <th>95</th>\n",
       "      <td>Nike</td>\n",
       "      <td>Men ZOOM WINFLO8 Running Shoes</td>\n",
       "      <td>8295</td>\n",
       "    </tr>\n",
       "    <tr>\n",
       "      <th>96</th>\n",
       "      <td>Puma</td>\n",
       "      <td>Men UltraRide Running Shoes</td>\n",
       "      <td>7199</td>\n",
       "    </tr>\n",
       "    <tr>\n",
       "      <th>97</th>\n",
       "      <td>Florsheim</td>\n",
       "      <td>Men Solid Leather Formal Derbys</td>\n",
       "      <td>6995</td>\n",
       "    </tr>\n",
       "    <tr>\n",
       "      <th>98</th>\n",
       "      <td>Heel &amp; Buckle London</td>\n",
       "      <td>Women Solid Leather Gladiators</td>\n",
       "      <td>6993</td>\n",
       "    </tr>\n",
       "    <tr>\n",
       "      <th>99</th>\n",
       "      <td>Cole Haan</td>\n",
       "      <td>Women Solid Leather Ballerinas</td>\n",
       "      <td>9799</td>\n",
       "    </tr>\n",
       "  </tbody>\n",
       "</table>\n",
       "<p>100 rows × 3 columns</p>\n",
       "</div>"
      ],
      "text/plain": [
       "           Product_Brand                     Product_Name Product_Price in Rs\n",
       "0                  ASICS           Men Black Sports Shoes                9999\n",
       "1                   Nike    Men REACT MILER Running Shoes                8246\n",
       "2                   Nike   Unisex LEBRON XVIII Basketball               12316\n",
       "3                   Nike   Unisex COSMIC UNITY Basketball               11470\n",
       "4                   Nike      Men ZOOM FREAK 2 Basketball                7721\n",
       "..                   ...                              ...                 ...\n",
       "95                  Nike   Men ZOOM WINFLO8 Running Shoes                8295\n",
       "96                  Puma      Men UltraRide Running Shoes                7199\n",
       "97             Florsheim  Men Solid Leather Formal Derbys                6995\n",
       "98  Heel & Buckle London   Women Solid Leather Gladiators                6993\n",
       "99             Cole Haan   Women Solid Leather Ballerinas                9799\n",
       "\n",
       "[100 rows x 3 columns]"
      ]
     },
     "execution_count": 388,
     "metadata": {},
     "output_type": "execute_result"
    }
   ],
   "source": [
    "\n",
    "#Dictionary creation for Dataframe/ Table\n",
    "dict = {\n",
    "    'Product_Brand': brand_li,\n",
    "    'Product_Name': product_li,\n",
    "    'Product_Price in Rs':price_modified\n",
    "}\n",
    "\n",
    "\n",
    "\n",
    "table = pandas.DataFrame(dict)\n",
    "\n",
    "table"
   ]
  },
  {
   "cell_type": "markdown",
   "metadata": {},
   "source": [
    "## Q10: Q10: Go to webpage https://www.amazon.in/\n",
    "     Enter “Laptop” in the search field and then click the search icon.\n",
    "     Then set CPU Type filter to “Intel Core i7” and “Intel Core i9” as shown in the\n",
    "    below imag\n",
    "    \n",
    "    After setting the filters scrape first 10 laptops data. You have to scrape 3 attributes\n",
    "    for each laptop:\n",
    "    1. title\n",
    "    2. Ratings\n",
    "    3. Price\n",
    "    As shown in the below image as the tick marked attribe"
   ]
  },
  {
   "cell_type": "code",
   "execution_count": 431,
   "metadata": {},
   "outputs": [],
   "source": [
    "\n",
    "# Giving the driver the web page link\n",
    "driver.get('https://www.amazon.in/')"
   ]
  },
  {
   "cell_type": "code",
   "execution_count": 432,
   "metadata": {},
   "outputs": [],
   "source": [
    "# Search Tab and Search Button element\n",
    "\n",
    "search_input = driver.find_element_by_id('twotabsearchtextbox')\n",
    "search_btn = driver.find_element_by_xpath(\"//span[@class='nav-search-submit-text nav-sprite nav-progressive-attribute']\")"
   ]
  },
  {
   "cell_type": "code",
   "execution_count": 433,
   "metadata": {},
   "outputs": [],
   "source": [
    "# Sending keys Laptop to search in search tab and Clicking the Search Button\n",
    "\n",
    "search_input.send_keys('Laptop')\n",
    "search_btn.click()"
   ]
  },
  {
   "cell_type": "code",
   "execution_count": 434,
   "metadata": {},
   "outputs": [],
   "source": [
    "# Click the i7 Intel core Filter\n",
    "\n",
    "driver.find_element_by_xpath(\"//span[text()='Intel Core i7']\").click()"
   ]
  },
  {
   "cell_type": "code",
   "execution_count": 435,
   "metadata": {},
   "outputs": [],
   "source": [
    "# Click the i9 Intel core Filter\n",
    "\n",
    "driver.find_element_by_xpath(\"//span[text()='Intel Core i9']\").click()"
   ]
  },
  {
   "cell_type": "code",
   "execution_count": 436,
   "metadata": {},
   "outputs": [],
   "source": [
    "# Retreiving all the first 10 product links\n",
    "product_link =driver.find_elements_by_xpath(\"//a[@class='a-link-normal a-text-normal']\")[:12]"
   ]
  },
  {
   "cell_type": "code",
   "execution_count": 437,
   "metadata": {},
   "outputs": [],
   "source": [
    "import numpy as np"
   ]
  },
  {
   "cell_type": "code",
   "execution_count": 438,
   "metadata": {},
   "outputs": [],
   "source": [
    "# Storing all the indiviual product  links\n",
    "product_urls = []\n",
    "for i in product_link:\n",
    "    product_urls.append(i.get_attribute('href'))"
   ]
  },
  {
   "cell_type": "code",
   "execution_count": 451,
   "metadata": {},
   "outputs": [],
   "source": [
    "# looping through each product page and extracting information od Title, Price and Rating\n",
    "\n",
    "title_list = []\n",
    "price_list = []\n",
    "rating_list = []\n",
    "for i in product_urls:\n",
    "  \n",
    "    driver.get(i)\n",
    "    \n",
    "   \n",
    "    \n",
    "    try:\n",
    "        title = driver.find_element_by_xpath(\"//span[@id='productTitle']\")\n",
    "        title_list.append(title.text)\n",
    "        \n",
    "    except NoSuchElementException as e:\n",
    "        title_list.append(np.NaN)\n",
    "            \n",
    "    try:\n",
    "        price = driver.find_element_by_xpath(\"//span[@id='priceblock_ourprice']\")\n",
    "        price_list.append(price.text.replace('₹ ',''))\n",
    "            \n",
    "    except NoSuchElementException as e:\n",
    "        price_list.append(np.NaN)\n",
    "            \n",
    "    try:\n",
    "        rating = driver.find_element_by_xpath(\"//span[@data-hook='rating-out-of-text']\")\n",
    "        rating_list.append(rating.text.split(' ')[0])\n",
    "        \n",
    "    except NoSuchElementException as e:\n",
    "        rating_list.append(np.NaN)\n",
    "        \n",
    "    \n",
    "   \n",
    "   \n",
    "        \n",
    "  \n",
    "        \n",
    "    \n",
    "    "
   ]
  },
  {
   "cell_type": "code",
   "execution_count": 452,
   "metadata": {},
   "outputs": [
    {
     "data": {
      "text/html": [
       "<div>\n",
       "<style scoped>\n",
       "    .dataframe tbody tr th:only-of-type {\n",
       "        vertical-align: middle;\n",
       "    }\n",
       "\n",
       "    .dataframe tbody tr th {\n",
       "        vertical-align: top;\n",
       "    }\n",
       "\n",
       "    .dataframe thead th {\n",
       "        text-align: right;\n",
       "    }\n",
       "</style>\n",
       "<table border=\"1\" class=\"dataframe\">\n",
       "  <thead>\n",
       "    <tr style=\"text-align: right;\">\n",
       "      <th></th>\n",
       "      <th>Product</th>\n",
       "      <th>Product_Price in ₹</th>\n",
       "      <th>Rating out of 5</th>\n",
       "    </tr>\n",
       "  </thead>\n",
       "  <tbody>\n",
       "    <tr>\n",
       "      <th>0</th>\n",
       "      <td>Lenovo Yoga Slim 7 10th Gen Intel Core i7 14 i...</td>\n",
       "      <td>83,990.00</td>\n",
       "      <td>3.2</td>\n",
       "    </tr>\n",
       "    <tr>\n",
       "      <th>1</th>\n",
       "      <td>Lenovo Yoga 7 11th Gen Intel Core i7 14\" (35.5...</td>\n",
       "      <td>97,990.00</td>\n",
       "      <td>4.2</td>\n",
       "    </tr>\n",
       "    <tr>\n",
       "      <th>2</th>\n",
       "      <td>Mi Notebook Horizon Edition 14 Intel Core i5-1...</td>\n",
       "      <td>54,999.00</td>\n",
       "      <td>4.4</td>\n",
       "    </tr>\n",
       "    <tr>\n",
       "      <th>3</th>\n",
       "      <td>Lenovo Ideapad 5 Intel i7 11th Gen 15.6\" Thin ...</td>\n",
       "      <td>76,990.00</td>\n",
       "      <td>5</td>\n",
       "    </tr>\n",
       "    <tr>\n",
       "      <th>4</th>\n",
       "      <td>HP Pavilion (2021) Thin &amp; Light 11th Gen Core ...</td>\n",
       "      <td>84,990.00</td>\n",
       "      <td>4.5</td>\n",
       "    </tr>\n",
       "    <tr>\n",
       "      <th>5</th>\n",
       "      <td>Life Digital Laptop 15.6-inch (39.62 cms) (Int...</td>\n",
       "      <td>26,990.00</td>\n",
       "      <td>3.1</td>\n",
       "    </tr>\n",
       "    <tr>\n",
       "      <th>6</th>\n",
       "      <td>HP 14 Thin &amp; Light 14\" (35.56cms) FHD Laptop (...</td>\n",
       "      <td>89,990.00</td>\n",
       "      <td>4.7</td>\n",
       "    </tr>\n",
       "    <tr>\n",
       "      <th>7</th>\n",
       "      <td>(Renewed) Dell G7 7500 15.6inch FHD 300 Hz Dis...</td>\n",
       "      <td>1,70,587.00</td>\n",
       "      <td>NaN</td>\n",
       "    </tr>\n",
       "    <tr>\n",
       "      <th>8</th>\n",
       "      <td>ASUS ROG Zephyrus Duo 15, 15.6\" 4K UHD, Intel ...</td>\n",
       "      <td>2,69,990.00</td>\n",
       "      <td>3.8</td>\n",
       "    </tr>\n",
       "    <tr>\n",
       "      <th>9</th>\n",
       "      <td>(Renewed) Lenovo T430 14-inch Laptop (Core i7/...</td>\n",
       "      <td>51,999.00</td>\n",
       "      <td>NaN</td>\n",
       "    </tr>\n",
       "    <tr>\n",
       "      <th>10</th>\n",
       "      <td>HP Pavilion Gaming 10th Gen Intel Core i7 Proc...</td>\n",
       "      <td>86,990.00</td>\n",
       "      <td>4.1</td>\n",
       "    </tr>\n",
       "    <tr>\n",
       "      <th>11</th>\n",
       "      <td>HP Pavilion x360 (2021) 14\" (35.56cms) FHD Tou...</td>\n",
       "      <td>78,990.00</td>\n",
       "      <td>3.8</td>\n",
       "    </tr>\n",
       "  </tbody>\n",
       "</table>\n",
       "</div>"
      ],
      "text/plain": [
       "                                              Product Product_Price in ₹   \\\n",
       "0   Lenovo Yoga Slim 7 10th Gen Intel Core i7 14 i...           83,990.00   \n",
       "1   Lenovo Yoga 7 11th Gen Intel Core i7 14\" (35.5...           97,990.00   \n",
       "2   Mi Notebook Horizon Edition 14 Intel Core i5-1...           54,999.00   \n",
       "3   Lenovo Ideapad 5 Intel i7 11th Gen 15.6\" Thin ...           76,990.00   \n",
       "4   HP Pavilion (2021) Thin & Light 11th Gen Core ...           84,990.00   \n",
       "5   Life Digital Laptop 15.6-inch (39.62 cms) (Int...           26,990.00   \n",
       "6   HP 14 Thin & Light 14\" (35.56cms) FHD Laptop (...           89,990.00   \n",
       "7   (Renewed) Dell G7 7500 15.6inch FHD 300 Hz Dis...         1,70,587.00   \n",
       "8   ASUS ROG Zephyrus Duo 15, 15.6\" 4K UHD, Intel ...         2,69,990.00   \n",
       "9   (Renewed) Lenovo T430 14-inch Laptop (Core i7/...           51,999.00   \n",
       "10  HP Pavilion Gaming 10th Gen Intel Core i7 Proc...           86,990.00   \n",
       "11  HP Pavilion x360 (2021) 14\" (35.56cms) FHD Tou...           78,990.00   \n",
       "\n",
       "   Rating out of 5   \n",
       "0               3.2  \n",
       "1               4.2  \n",
       "2               4.4  \n",
       "3                 5  \n",
       "4               4.5  \n",
       "5               3.1  \n",
       "6               4.7  \n",
       "7               NaN  \n",
       "8               3.8  \n",
       "9               NaN  \n",
       "10              4.1  \n",
       "11              3.8  "
      ]
     },
     "execution_count": 452,
     "metadata": {},
     "output_type": "execute_result"
    }
   ],
   "source": [
    "\n",
    "#Dictionary creation for Dataframe/ Table\n",
    "dict = {\n",
    "    'Product': title_list,\n",
    "\n",
    "    'Product_Price in ₹ ':price_list,\n",
    "        'Rating out of 5 ': rating_list,\n",
    "}\n",
    "\n",
    "\n",
    "\n",
    "table = pandas.DataFrame(dict)\n",
    "\n",
    "table"
   ]
  },
  {
   "cell_type": "code",
   "execution_count": null,
   "metadata": {},
   "outputs": [],
   "source": []
  },
  {
   "cell_type": "code",
   "execution_count": null,
   "metadata": {},
   "outputs": [],
   "source": []
  },
  {
   "cell_type": "code",
   "execution_count": null,
   "metadata": {},
   "outputs": [],
   "source": []
  },
  {
   "cell_type": "code",
   "execution_count": null,
   "metadata": {},
   "outputs": [],
   "source": []
  },
  {
   "cell_type": "code",
   "execution_count": null,
   "metadata": {},
   "outputs": [],
   "source": []
  },
  {
   "cell_type": "code",
   "execution_count": null,
   "metadata": {},
   "outputs": [],
   "source": []
  },
  {
   "cell_type": "code",
   "execution_count": null,
   "metadata": {},
   "outputs": [],
   "source": []
  },
  {
   "cell_type": "code",
   "execution_count": null,
   "metadata": {},
   "outputs": [],
   "source": []
  },
  {
   "cell_type": "code",
   "execution_count": null,
   "metadata": {},
   "outputs": [],
   "source": []
  },
  {
   "cell_type": "code",
   "execution_count": null,
   "metadata": {},
   "outputs": [],
   "source": []
  },
  {
   "cell_type": "code",
   "execution_count": null,
   "metadata": {},
   "outputs": [],
   "source": []
  },
  {
   "cell_type": "code",
   "execution_count": null,
   "metadata": {},
   "outputs": [],
   "source": []
  },
  {
   "cell_type": "code",
   "execution_count": null,
   "metadata": {},
   "outputs": [],
   "source": []
  },
  {
   "cell_type": "code",
   "execution_count": null,
   "metadata": {},
   "outputs": [],
   "source": []
  },
  {
   "cell_type": "code",
   "execution_count": null,
   "metadata": {},
   "outputs": [],
   "source": []
  },
  {
   "cell_type": "code",
   "execution_count": null,
   "metadata": {},
   "outputs": [],
   "source": []
  },
  {
   "cell_type": "code",
   "execution_count": null,
   "metadata": {},
   "outputs": [],
   "source": []
  },
  {
   "cell_type": "code",
   "execution_count": null,
   "metadata": {},
   "outputs": [],
   "source": []
  },
  {
   "cell_type": "code",
   "execution_count": null,
   "metadata": {},
   "outputs": [],
   "source": []
  },
  {
   "cell_type": "code",
   "execution_count": null,
   "metadata": {},
   "outputs": [],
   "source": []
  },
  {
   "cell_type": "code",
   "execution_count": null,
   "metadata": {},
   "outputs": [],
   "source": []
  },
  {
   "cell_type": "code",
   "execution_count": null,
   "metadata": {},
   "outputs": [],
   "source": []
  },
  {
   "cell_type": "code",
   "execution_count": null,
   "metadata": {},
   "outputs": [],
   "source": []
  },
  {
   "cell_type": "code",
   "execution_count": null,
   "metadata": {},
   "outputs": [],
   "source": []
  },
  {
   "cell_type": "code",
   "execution_count": null,
   "metadata": {},
   "outputs": [],
   "source": []
  },
  {
   "cell_type": "code",
   "execution_count": null,
   "metadata": {},
   "outputs": [],
   "source": []
  },
  {
   "cell_type": "code",
   "execution_count": null,
   "metadata": {},
   "outputs": [],
   "source": []
  },
  {
   "cell_type": "code",
   "execution_count": null,
   "metadata": {},
   "outputs": [],
   "source": []
  },
  {
   "cell_type": "code",
   "execution_count": null,
   "metadata": {},
   "outputs": [],
   "source": []
  },
  {
   "cell_type": "code",
   "execution_count": null,
   "metadata": {},
   "outputs": [],
   "source": []
  },
  {
   "cell_type": "code",
   "execution_count": null,
   "metadata": {},
   "outputs": [],
   "source": []
  },
  {
   "cell_type": "code",
   "execution_count": null,
   "metadata": {},
   "outputs": [],
   "source": []
  },
  {
   "cell_type": "code",
   "execution_count": null,
   "metadata": {},
   "outputs": [],
   "source": []
  },
  {
   "cell_type": "code",
   "execution_count": null,
   "metadata": {},
   "outputs": [],
   "source": []
  },
  {
   "cell_type": "code",
   "execution_count": null,
   "metadata": {},
   "outputs": [],
   "source": []
  },
  {
   "cell_type": "code",
   "execution_count": null,
   "metadata": {},
   "outputs": [],
   "source": []
  },
  {
   "cell_type": "code",
   "execution_count": null,
   "metadata": {},
   "outputs": [],
   "source": []
  },
  {
   "cell_type": "code",
   "execution_count": null,
   "metadata": {},
   "outputs": [],
   "source": []
  },
  {
   "cell_type": "code",
   "execution_count": null,
   "metadata": {},
   "outputs": [],
   "source": []
  },
  {
   "cell_type": "code",
   "execution_count": null,
   "metadata": {},
   "outputs": [],
   "source": []
  },
  {
   "cell_type": "code",
   "execution_count": null,
   "metadata": {},
   "outputs": [],
   "source": []
  },
  {
   "cell_type": "code",
   "execution_count": null,
   "metadata": {},
   "outputs": [],
   "source": []
  },
  {
   "cell_type": "code",
   "execution_count": null,
   "metadata": {},
   "outputs": [],
   "source": []
  },
  {
   "cell_type": "code",
   "execution_count": null,
   "metadata": {},
   "outputs": [],
   "source": []
  },
  {
   "cell_type": "code",
   "execution_count": null,
   "metadata": {},
   "outputs": [],
   "source": []
  },
  {
   "cell_type": "code",
   "execution_count": null,
   "metadata": {},
   "outputs": [],
   "source": []
  },
  {
   "cell_type": "code",
   "execution_count": null,
   "metadata": {},
   "outputs": [],
   "source": []
  },
  {
   "cell_type": "code",
   "execution_count": null,
   "metadata": {},
   "outputs": [],
   "source": []
  },
  {
   "cell_type": "code",
   "execution_count": null,
   "metadata": {},
   "outputs": [],
   "source": []
  },
  {
   "cell_type": "code",
   "execution_count": null,
   "metadata": {},
   "outputs": [],
   "source": []
  },
  {
   "cell_type": "code",
   "execution_count": null,
   "metadata": {},
   "outputs": [],
   "source": []
  },
  {
   "cell_type": "code",
   "execution_count": null,
   "metadata": {},
   "outputs": [],
   "source": []
  },
  {
   "cell_type": "code",
   "execution_count": null,
   "metadata": {},
   "outputs": [],
   "source": []
  },
  {
   "cell_type": "code",
   "execution_count": null,
   "metadata": {},
   "outputs": [],
   "source": []
  },
  {
   "cell_type": "code",
   "execution_count": null,
   "metadata": {},
   "outputs": [],
   "source": []
  },
  {
   "cell_type": "code",
   "execution_count": null,
   "metadata": {},
   "outputs": [],
   "source": []
  },
  {
   "cell_type": "code",
   "execution_count": null,
   "metadata": {},
   "outputs": [],
   "source": []
  },
  {
   "cell_type": "code",
   "execution_count": null,
   "metadata": {},
   "outputs": [],
   "source": []
  },
  {
   "cell_type": "code",
   "execution_count": null,
   "metadata": {},
   "outputs": [],
   "source": []
  },
  {
   "cell_type": "code",
   "execution_count": null,
   "metadata": {},
   "outputs": [],
   "source": []
  },
  {
   "cell_type": "code",
   "execution_count": null,
   "metadata": {},
   "outputs": [],
   "source": []
  },
  {
   "cell_type": "code",
   "execution_count": null,
   "metadata": {},
   "outputs": [],
   "source": []
  },
  {
   "cell_type": "code",
   "execution_count": null,
   "metadata": {},
   "outputs": [],
   "source": []
  },
  {
   "cell_type": "code",
   "execution_count": null,
   "metadata": {},
   "outputs": [],
   "source": []
  },
  {
   "cell_type": "code",
   "execution_count": null,
   "metadata": {},
   "outputs": [],
   "source": []
  },
  {
   "cell_type": "code",
   "execution_count": null,
   "metadata": {},
   "outputs": [],
   "source": []
  },
  {
   "cell_type": "code",
   "execution_count": null,
   "metadata": {},
   "outputs": [],
   "source": []
  },
  {
   "cell_type": "code",
   "execution_count": null,
   "metadata": {},
   "outputs": [],
   "source": []
  },
  {
   "cell_type": "code",
   "execution_count": null,
   "metadata": {},
   "outputs": [],
   "source": []
  },
  {
   "cell_type": "code",
   "execution_count": null,
   "metadata": {},
   "outputs": [],
   "source": []
  },
  {
   "cell_type": "code",
   "execution_count": null,
   "metadata": {},
   "outputs": [],
   "source": []
  },
  {
   "cell_type": "code",
   "execution_count": null,
   "metadata": {},
   "outputs": [],
   "source": []
  },
  {
   "cell_type": "code",
   "execution_count": null,
   "metadata": {},
   "outputs": [],
   "source": []
  },
  {
   "cell_type": "code",
   "execution_count": null,
   "metadata": {},
   "outputs": [],
   "source": []
  },
  {
   "cell_type": "code",
   "execution_count": null,
   "metadata": {},
   "outputs": [],
   "source": []
  },
  {
   "cell_type": "code",
   "execution_count": null,
   "metadata": {},
   "outputs": [],
   "source": []
  },
  {
   "cell_type": "code",
   "execution_count": null,
   "metadata": {},
   "outputs": [],
   "source": []
  }
 ],
 "metadata": {
  "kernelspec": {
   "display_name": "Python 3",
   "language": "python",
   "name": "python3"
  },
  "language_info": {
   "codemirror_mode": {
    "name": "ipython",
    "version": 3
   },
   "file_extension": ".py",
   "mimetype": "text/x-python",
   "name": "python",
   "nbconvert_exporter": "python",
   "pygments_lexer": "ipython3",
   "version": "3.8.5"
  }
 },
 "nbformat": 4,
 "nbformat_minor": 4
}
